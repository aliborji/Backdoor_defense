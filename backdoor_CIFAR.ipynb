{
  "nbformat": 4,
  "nbformat_minor": 0,
  "metadata": {
    "accelerator": "GPU",
    "colab": {
      "name": "backdoor-CIFAR.ipynb",
      "provenance": [],
      "collapsed_sections": [],
      "machine_shape": "hm"
    },
    "kernelspec": {
      "display_name": "Python 3",
      "language": "python",
      "name": "python3"
    },
    "language_info": {
      "codemirror_mode": {
        "name": "ipython",
        "version": 3
      },
      "file_extension": ".py",
      "mimetype": "text/x-python",
      "name": "python",
      "nbconvert_exporter": "python",
      "pygments_lexer": "ipython3",
      "version": "3.7.6"
    },
    "widgets": {
      "application/vnd.jupyter.widget-state+json": {
        "483b1bff12f34ab39bd66649b9891557": {
          "model_module": "@jupyter-widgets/controls",
          "model_name": "HBoxModel",
          "state": {
            "_view_name": "HBoxView",
            "_dom_classes": [],
            "_model_name": "HBoxModel",
            "_view_module": "@jupyter-widgets/controls",
            "_model_module_version": "1.5.0",
            "_view_count": null,
            "_view_module_version": "1.5.0",
            "box_style": "",
            "layout": "IPY_MODEL_207a6f80a44a46bf9fca0b8498d6990c",
            "_model_module": "@jupyter-widgets/controls",
            "children": [
              "IPY_MODEL_b68997cff4c04a528918a0836e2071f5",
              "IPY_MODEL_88a4e9c0af3846e8aa29991033fc7429"
            ]
          }
        },
        "207a6f80a44a46bf9fca0b8498d6990c": {
          "model_module": "@jupyter-widgets/base",
          "model_name": "LayoutModel",
          "state": {
            "_view_name": "LayoutView",
            "grid_template_rows": null,
            "right": null,
            "justify_content": null,
            "_view_module": "@jupyter-widgets/base",
            "overflow": null,
            "_model_module_version": "1.2.0",
            "_view_count": null,
            "flex_flow": null,
            "width": null,
            "min_width": null,
            "border": null,
            "align_items": null,
            "bottom": null,
            "_model_module": "@jupyter-widgets/base",
            "top": null,
            "grid_column": null,
            "overflow_y": null,
            "overflow_x": null,
            "grid_auto_flow": null,
            "grid_area": null,
            "grid_template_columns": null,
            "flex": null,
            "_model_name": "LayoutModel",
            "justify_items": null,
            "grid_row": null,
            "max_height": null,
            "align_content": null,
            "visibility": null,
            "align_self": null,
            "height": null,
            "min_height": null,
            "padding": null,
            "grid_auto_rows": null,
            "grid_gap": null,
            "max_width": null,
            "order": null,
            "_view_module_version": "1.2.0",
            "grid_template_areas": null,
            "object_position": null,
            "object_fit": null,
            "grid_auto_columns": null,
            "margin": null,
            "display": null,
            "left": null
          }
        },
        "b68997cff4c04a528918a0836e2071f5": {
          "model_module": "@jupyter-widgets/controls",
          "model_name": "FloatProgressModel",
          "state": {
            "_view_name": "ProgressView",
            "style": "IPY_MODEL_eef89835b0f94ed8a4feb21522b395af",
            "_dom_classes": [],
            "description": "",
            "_model_name": "FloatProgressModel",
            "bar_style": "info",
            "max": 1,
            "_view_module": "@jupyter-widgets/controls",
            "_model_module_version": "1.5.0",
            "value": 1,
            "_view_count": null,
            "_view_module_version": "1.5.0",
            "orientation": "horizontal",
            "min": 0,
            "description_tooltip": null,
            "_model_module": "@jupyter-widgets/controls",
            "layout": "IPY_MODEL_7e45d126091b48d49fd16a2105996541"
          }
        },
        "88a4e9c0af3846e8aa29991033fc7429": {
          "model_module": "@jupyter-widgets/controls",
          "model_name": "HTMLModel",
          "state": {
            "_view_name": "HTMLView",
            "style": "IPY_MODEL_5662471c39554636b1ab3eaae3977c0b",
            "_dom_classes": [],
            "description": "",
            "_model_name": "HTMLModel",
            "placeholder": "​",
            "_view_module": "@jupyter-widgets/controls",
            "_model_module_version": "1.5.0",
            "value": " 170500096/? [00:20&lt;00:00, 33498940.27it/s]",
            "_view_count": null,
            "_view_module_version": "1.5.0",
            "description_tooltip": null,
            "_model_module": "@jupyter-widgets/controls",
            "layout": "IPY_MODEL_65a7555432ee4d08aaa7122eff6b263d"
          }
        },
        "eef89835b0f94ed8a4feb21522b395af": {
          "model_module": "@jupyter-widgets/controls",
          "model_name": "ProgressStyleModel",
          "state": {
            "_view_name": "StyleView",
            "_model_name": "ProgressStyleModel",
            "description_width": "initial",
            "_view_module": "@jupyter-widgets/base",
            "_model_module_version": "1.5.0",
            "_view_count": null,
            "_view_module_version": "1.2.0",
            "bar_color": null,
            "_model_module": "@jupyter-widgets/controls"
          }
        },
        "7e45d126091b48d49fd16a2105996541": {
          "model_module": "@jupyter-widgets/base",
          "model_name": "LayoutModel",
          "state": {
            "_view_name": "LayoutView",
            "grid_template_rows": null,
            "right": null,
            "justify_content": null,
            "_view_module": "@jupyter-widgets/base",
            "overflow": null,
            "_model_module_version": "1.2.0",
            "_view_count": null,
            "flex_flow": null,
            "width": null,
            "min_width": null,
            "border": null,
            "align_items": null,
            "bottom": null,
            "_model_module": "@jupyter-widgets/base",
            "top": null,
            "grid_column": null,
            "overflow_y": null,
            "overflow_x": null,
            "grid_auto_flow": null,
            "grid_area": null,
            "grid_template_columns": null,
            "flex": null,
            "_model_name": "LayoutModel",
            "justify_items": null,
            "grid_row": null,
            "max_height": null,
            "align_content": null,
            "visibility": null,
            "align_self": null,
            "height": null,
            "min_height": null,
            "padding": null,
            "grid_auto_rows": null,
            "grid_gap": null,
            "max_width": null,
            "order": null,
            "_view_module_version": "1.2.0",
            "grid_template_areas": null,
            "object_position": null,
            "object_fit": null,
            "grid_auto_columns": null,
            "margin": null,
            "display": null,
            "left": null
          }
        },
        "5662471c39554636b1ab3eaae3977c0b": {
          "model_module": "@jupyter-widgets/controls",
          "model_name": "DescriptionStyleModel",
          "state": {
            "_view_name": "StyleView",
            "_model_name": "DescriptionStyleModel",
            "description_width": "",
            "_view_module": "@jupyter-widgets/base",
            "_model_module_version": "1.5.0",
            "_view_count": null,
            "_view_module_version": "1.2.0",
            "_model_module": "@jupyter-widgets/controls"
          }
        },
        "65a7555432ee4d08aaa7122eff6b263d": {
          "model_module": "@jupyter-widgets/base",
          "model_name": "LayoutModel",
          "state": {
            "_view_name": "LayoutView",
            "grid_template_rows": null,
            "right": null,
            "justify_content": null,
            "_view_module": "@jupyter-widgets/base",
            "overflow": null,
            "_model_module_version": "1.2.0",
            "_view_count": null,
            "flex_flow": null,
            "width": null,
            "min_width": null,
            "border": null,
            "align_items": null,
            "bottom": null,
            "_model_module": "@jupyter-widgets/base",
            "top": null,
            "grid_column": null,
            "overflow_y": null,
            "overflow_x": null,
            "grid_auto_flow": null,
            "grid_area": null,
            "grid_template_columns": null,
            "flex": null,
            "_model_name": "LayoutModel",
            "justify_items": null,
            "grid_row": null,
            "max_height": null,
            "align_content": null,
            "visibility": null,
            "align_self": null,
            "height": null,
            "min_height": null,
            "padding": null,
            "grid_auto_rows": null,
            "grid_gap": null,
            "max_width": null,
            "order": null,
            "_view_module_version": "1.2.0",
            "grid_template_areas": null,
            "object_position": null,
            "object_fit": null,
            "grid_auto_columns": null,
            "margin": null,
            "display": null,
            "left": null
          }
        }
      }
    }
  },
  "cells": [
    {
      "cell_type": "code",
      "metadata": {
        "colab_type": "code",
        "id": "CcDFB3Bk55Ey",
        "outputId": "a0b2fb78-5b5d-40dd-d29e-465123247d53",
        "colab": {
          "base_uri": "https://localhost:8080/",
          "height": 34
        }
      },
      "source": [
        "%pylab inline\n",
        "import numpy as np\n",
        "import torch\n",
        "import torch.nn as nn\n",
        "import torch.nn.functional as F\n",
        "import torch.utils.data.dataloader as dataloader\n",
        "import torch.optim as optim\n",
        "\n",
        "from torch.utils.data import TensorDataset\n",
        "from torch.autograd import Variable\n",
        "from torchvision import transforms\n",
        "from torchvision.datasets import  CIFAR10\n",
        "import torchvision\n",
        "SEED = 1\n",
        "\n",
        "# CUDA?\n",
        "cuda = torch.cuda.is_available()\n",
        "\n",
        "# For reproducibility\n",
        "torch.manual_seed(SEED)\n",
        "\n",
        "if cuda:\n",
        "    torch.cuda.manual_seed(SEED)"
      ],
      "execution_count": 0,
      "outputs": [
        {
          "output_type": "stream",
          "text": [
            "Populating the interactive namespace from numpy and matplotlib\n"
          ],
          "name": "stdout"
        }
      ]
    },
    {
      "cell_type": "code",
      "metadata": {
        "id": "7BAD7LoWOtdk",
        "colab_type": "code",
        "outputId": "63e82835-0d15-4d9c-fc44-aee1cd63fc9a",
        "colab": {
          "base_uri": "https://localhost:8080/",
          "height": 102
        }
      },
      "source": [
        "# memory footprint support libraries/code\n",
        "!ln -sf /opt/bin/nvidia-smi /usr/bin/nvidia-smi\n",
        "!pip install gputil\n",
        "!pip install psutil\n",
        "!pip install humanize\n",
        "\n",
        "import psutil\n",
        "import humanize\n",
        "import os\n",
        "import GPUtil as GPU\n",
        "\n",
        "GPUs = GPU.getGPUs()\n",
        "# XXX: only one GPU on Colab and isn’t guaranteed\n",
        "gpu = GPUs[0]\n",
        "def printm():\n",
        "    process = psutil.Process(os.getpid())\n",
        "    print(\"Gen RAM Free: \" + humanize.naturalsize(psutil.virtual_memory().available), \" |     Proc size: \" + humanize.naturalsize(process.memory_info().rss))\n",
        "    print(\"GPU RAM Free: {0:.0f}MB | Used: {1:.0f}MB | Util {2:3.0f}% | Total     {3:.0f}MB\".format(gpu.memoryFree, gpu.memoryUsed, gpu.memoryUtil*100, gpu.memoryTotal))\n",
        "printm()"
      ],
      "execution_count": 0,
      "outputs": [
        {
          "output_type": "stream",
          "text": [
            "Requirement already satisfied: gputil in /usr/local/lib/python3.6/dist-packages (1.4.0)\n",
            "Requirement already satisfied: psutil in /usr/local/lib/python3.6/dist-packages (5.4.8)\n",
            "Requirement already satisfied: humanize in /usr/local/lib/python3.6/dist-packages (0.5.1)\n",
            "Gen RAM Free: 24.9 GB  |     Proc size: 2.6 GB\n",
            "GPU RAM Free: 9262MB | Used: 2179MB | Util  19% | Total     11441MB\n"
          ],
          "name": "stdout"
        }
      ]
    },
    {
      "cell_type": "code",
      "metadata": {
        "colab_type": "code",
        "id": "WDmAvekAs6S-",
        "outputId": "ac848b0d-2ff6-41ce-a7a2-27693c119402",
        "colab": {
          "base_uri": "https://localhost:8080/",
          "height": 122
        }
      },
      "source": [
        "from google.colab import drive\n",
        "drive.mount('/content/drive/', force_remount=True)"
      ],
      "execution_count": 0,
      "outputs": [
        {
          "output_type": "stream",
          "text": [
            "Go to this URL in a browser: https://accounts.google.com/o/oauth2/auth?client_id=947318989803-6bn6qk8qdgf4n4g3pfee6491hc0brc4i.apps.googleusercontent.com&redirect_uri=urn%3aietf%3awg%3aoauth%3a2.0%3aoob&response_type=code&scope=email%20https%3a%2f%2fwww.googleapis.com%2fauth%2fdocs.test%20https%3a%2f%2fwww.googleapis.com%2fauth%2fdrive%20https%3a%2f%2fwww.googleapis.com%2fauth%2fdrive.photos.readonly%20https%3a%2f%2fwww.googleapis.com%2fauth%2fpeopleapi.readonly\n",
            "\n",
            "Enter your authorization code:\n",
            "··········\n",
            "Mounted at /content/drive/\n"
          ],
          "name": "stdout"
        }
      ]
    },
    {
      "cell_type": "code",
      "metadata": {
        "id": "hU4eCE-NwdNY",
        "colab_type": "code",
        "colab": {}
      },
      "source": [
        "\n",
        "# del drive\n",
        "# drive.flush_and_unmount()\n",
        "ls './drive/My Drive'"
      ],
      "execution_count": 0,
      "outputs": []
    },
    {
      "cell_type": "code",
      "metadata": {
        "id": "hXYVrs_dCkf1",
        "colab_type": "code",
        "colab": {}
      },
      "source": [
        "transform = transforms.ToTensor()\n",
        "X = np.ones((3, 2, 2)) + 10\n",
        "XX = transform(X)"
      ],
      "execution_count": 0,
      "outputs": []
    },
    {
      "cell_type": "code",
      "metadata": {
        "id": "igTTRJWwDPk1",
        "colab_type": "code",
        "colab": {}
      },
      "source": [
        "# help(transforms.ToTensor)"
      ],
      "execution_count": 0,
      "outputs": []
    },
    {
      "cell_type": "code",
      "metadata": {
        "id": "PXtyleHnClQ6",
        "colab_type": "code",
        "outputId": "96c98519-3363-4c66-9f31-5cee2bcde8be",
        "colab": {
          "base_uri": "https://localhost:8080/",
          "height": 136
        }
      },
      "source": [
        "XX"
      ],
      "execution_count": 0,
      "outputs": [
        {
          "output_type": "execute_result",
          "data": {
            "text/plain": [
              "tensor([[[11., 11.],\n",
              "         [11., 11.],\n",
              "         [11., 11.]],\n",
              "\n",
              "        [[11., 11.],\n",
              "         [11., 11.],\n",
              "         [11., 11.]]], dtype=torch.float64)"
            ]
          },
          "metadata": {
            "tags": []
          },
          "execution_count": 11
        }
      ]
    },
    {
      "cell_type": "code",
      "metadata": {
        "colab_type": "code",
        "id": "gLHCEEBp5-wH",
        "outputId": "ec90b853-836e-44a9-c92e-b80e06bf6846",
        "colab": {
          "base_uri": "https://localhost:8080/",
          "height": 100,
          "referenced_widgets": [
            "483b1bff12f34ab39bd66649b9891557",
            "207a6f80a44a46bf9fca0b8498d6990c",
            "b68997cff4c04a528918a0836e2071f5",
            "88a4e9c0af3846e8aa29991033fc7429",
            "eef89835b0f94ed8a4feb21522b395af",
            "7e45d126091b48d49fd16a2105996541",
            "5662471c39554636b1ab3eaae3977c0b",
            "65a7555432ee4d08aaa7122eff6b263d"
          ]
        }
      },
      "source": [
        "# transform = transforms.ToTensor()\n",
        "\n",
        "# train = CIFAR10('./data', train=True, download=True, transform=transform)\n",
        "# test = CIFAR10('./data', train=False, download=True, transform=transform)\n",
        "# # train.data = train.data/255.\n",
        "# # test.data = test.data/255.\n",
        "\n",
        "\n",
        "# dataloader_args = dict(batch_size=256,num_workers=4, \n",
        "#                        pin_memory=True) if torch.cuda.is_available else dict(batch_size=64)\n",
        "# train_loader = dataloader.DataLoader(train, shuffle=True, **dataloader_args)\n",
        "# test_loader = dataloader.DataLoader(test, shuffle=False, **dataloader_args)\n",
        "\n",
        "# classes = ('plane', 'car', 'bird', 'cat',\n",
        "#            'deer', 'dog', 'frog', 'horse', 'ship', 'truck')\n",
        "# num_cls = len(classes)\n",
        "# # p = next(iter(train_loader))[0].shape[-1]\n",
        "# # print('class number: {}'.format(num_cls))\n",
        "# # print('image size: {}'.format(p))\n",
        "\n",
        "\n",
        "transform = transforms.Compose(\n",
        "    [transforms.ToTensor()]) #,\n",
        "    #  transforms.Normalize((0.5, 0.5, 0.5), (0.5, 0.5, 0.5))])\n",
        "\n",
        "trainset = torchvision.datasets.CIFAR10(root='./data', train=True,\n",
        "                                        download=True, transform=transform)\n",
        "train_loader = torch.utils.data.DataLoader(trainset, batch_size=200,\n",
        "                                          shuffle=True, num_workers=4)\n",
        "\n",
        "testset = torchvision.datasets.CIFAR10(root='./data', train=False,\n",
        "                                       download=True, transform=transform)\n",
        "test_loader = torch.utils.data.DataLoader(testset, batch_size=200,\n",
        "                                         shuffle=False, num_workers=4)\n",
        "\n",
        "classes = ('plane', 'car', 'bird', 'cat',\n",
        "           'deer', 'dog', 'frog', 'horse', 'ship', 'truck')\n",
        "\n",
        "num_cls = len(classes)\n",
        "p = next(iter(train_loader))[0].shape[-1]"
      ],
      "execution_count": 0,
      "outputs": [
        {
          "output_type": "stream",
          "text": [
            "Downloading https://www.cs.toronto.edu/~kriz/cifar-10-python.tar.gz to ./data/cifar-10-python.tar.gz\n"
          ],
          "name": "stdout"
        },
        {
          "output_type": "display_data",
          "data": {
            "application/vnd.jupyter.widget-view+json": {
              "model_id": "483b1bff12f34ab39bd66649b9891557",
              "version_minor": 0,
              "version_major": 2
            },
            "text/plain": [
              "HBox(children=(FloatProgress(value=1.0, bar_style='info', max=1.0), HTML(value='')))"
            ]
          },
          "metadata": {
            "tags": []
          }
        },
        {
          "output_type": "stream",
          "text": [
            "Extracting ./data/cifar-10-python.tar.gz to ./data\n",
            "Files already downloaded and verified\n"
          ],
          "name": "stdout"
        }
      ]
    },
    {
      "cell_type": "code",
      "metadata": {
        "id": "X-UUxMEGEoH7",
        "colab_type": "code",
        "outputId": "9167b09c-eb48-4a5d-cd65-5e86362ef69d",
        "colab": {
          "base_uri": "https://localhost:8080/",
          "height": 34
        }
      },
      "source": [
        "next(iter(trainloader))[0].shape"
      ],
      "execution_count": 0,
      "outputs": [
        {
          "output_type": "execute_result",
          "data": {
            "text/plain": [
              "torch.Size([4, 3, 32, 32])"
            ]
          },
          "metadata": {
            "tags": []
          },
          "execution_count": 82
        }
      ]
    },
    {
      "cell_type": "code",
      "metadata": {
        "colab_type": "code",
        "id": "gyySx9TyRoDo",
        "outputId": "67b20c5d-c1a2-48e8-964a-877c61cac9d9",
        "colab": {
          "base_uri": "https://localhost:8080/",
          "height": 34
        }
      },
      "source": [
        "# test.data.shape\n",
        "next(iter(trainloader))[0].max()"
      ],
      "execution_count": 0,
      "outputs": [
        {
          "output_type": "execute_result",
          "data": {
            "text/plain": [
              "tensor(1.)"
            ]
          },
          "metadata": {
            "tags": []
          },
          "execution_count": 83
        }
      ]
    },
    {
      "cell_type": "code",
      "metadata": {
        "id": "C98tuKCuEIdk",
        "colab_type": "code",
        "colab": {}
      },
      "source": [
        "# p[0].min()"
      ],
      "execution_count": 0,
      "outputs": []
    },
    {
      "cell_type": "code",
      "metadata": {
        "id": "Z-GFajxCETNj",
        "colab_type": "code",
        "colab": {}
      },
      "source": [
        "# train.data.max()"
      ],
      "execution_count": 0,
      "outputs": []
    },
    {
      "cell_type": "code",
      "metadata": {
        "id": "PqVjuE8eH3Gn",
        "colab_type": "code",
        "colab": {}
      },
      "source": [
        "# save_path = 'cache/models'\n",
        "save_path =  './drive/My Drive/backdoor/'"
      ],
      "execution_count": 0,
      "outputs": []
    },
    {
      "cell_type": "code",
      "metadata": {
        "colab_type": "code",
        "id": "l8P08HhX6GHT",
        "colab": {}
      },
      "source": [
        "class Model(nn.Module):\n",
        "    def __init__(self, p):\n",
        "        super(Model, self).__init__()\n",
        "\n",
        "        self.conv1 = nn.Sequential(\n",
        "            # Conv Layer block 1\n",
        "            nn.Conv2d(in_channels=3, out_channels=p, kernel_size=3, padding=1),\n",
        "            nn.BatchNorm2d(p),\n",
        "            nn.ReLU(inplace=True),\n",
        "            nn.Conv2d(in_channels=p, out_channels=64, kernel_size=3, padding=1),\n",
        "            nn.ReLU(inplace=True)\n",
        "        )\n",
        "        self.pool1 = nn.MaxPool2d(kernel_size=2, stride=2)\n",
        "\n",
        "        self.conv2 = nn.Sequential(\n",
        "            # Conv Layer block 2\n",
        "            nn.Conv2d(in_channels=64, out_channels=128, kernel_size=3, padding=1),\n",
        "            nn.BatchNorm2d(128),\n",
        "            nn.ReLU(inplace=True),\n",
        "            nn.Conv2d(in_channels=128, out_channels=128, kernel_size=3, padding=1),\n",
        "            nn.ReLU(inplace=True)\n",
        "        )\n",
        "        self.pool2 = nn.Sequential(\n",
        "            nn.MaxPool2d(kernel_size=2, stride=2),\n",
        "            nn.Dropout2d(p=0.05)\n",
        "        )\n",
        "\n",
        "        self.conv3 = nn.Sequential(\n",
        "            # Conv Layer block 3\n",
        "            nn.Conv2d(in_channels=128, out_channels=256, kernel_size=3, padding=1),\n",
        "            nn.BatchNorm2d(256),\n",
        "            nn.ReLU(inplace=True),\n",
        "            nn.Conv2d(in_channels=256, out_channels=256, kernel_size=3, padding=1),\n",
        "            nn.ReLU(inplace=True)\n",
        "        )\n",
        "        self.pool3 = nn.MaxPool2d(kernel_size=2, stride=2)\n",
        "\n",
        "        self.fc_layer1 = nn.Sequential(\n",
        "            nn.Dropout(p=0.1),\n",
        "            nn.Linear(4096, 1024),\n",
        "            nn.ReLU(inplace=True),\n",
        "            nn.Linear(1024, 512),\n",
        "            nn.ReLU(inplace=True)\n",
        "        )\n",
        "        self.fc_layer2 = nn.Sequential(\n",
        "            nn.Dropout(p=0.1),\n",
        "            nn.Linear(512, 10)\n",
        "        )\n",
        "\n",
        "\n",
        "    def forward(self, x):\n",
        "        \"\"\"Perform forward.\"\"\"\n",
        "        \n",
        "        # conv layers\n",
        "        x_conv1 = self.conv1(x)\n",
        "        x_conv2 = self.conv2(self.pool1(x_conv1))\n",
        "        x_conv3 = self.conv3(self.pool2(x_conv2))\n",
        "        x1 = self.pool3(x_conv3)\n",
        "        \n",
        "        # flatten\n",
        "        x2 = x1.view(x1.size(0), -1)\n",
        "        \n",
        "        # fc layer\n",
        "        x3 = self.fc_layer1(x2)\n",
        "        x4 = self.fc_layer2(x3)\n",
        "\n",
        "        return x4, x3, x_conv3, x_conv2, x_conv1\n",
        "      \n",
        "model = Model(p)\n",
        "if cuda:\n",
        "    model.cuda() # CUDA!\n",
        "optimizer = optim.Adam(model.parameters(), lr=1e-3)"
      ],
      "execution_count": 0,
      "outputs": []
    },
    {
      "cell_type": "code",
      "metadata": {
        "colab_type": "code",
        "id": "yG6WktvrRjAd",
        "outputId": "b1e2ce55-21d8-4ead-e334-ac4812e93b51",
        "colab": {
          "base_uri": "https://localhost:8080/",
          "height": 187
        }
      },
      "source": [
        "EPOCHS = 10\n",
        "losses = []\n",
        "\n",
        "best_acc = 0\n",
        "for epoch in range(EPOCHS):\n",
        "    model.train()\n",
        "    for batch_idx, (data, target) in enumerate(train_loader):\n",
        "        if cuda:\n",
        "            data, target = data.cuda(), target.cuda()\n",
        "        \n",
        "        optimizer.zero_grad()\n",
        "        # Predict\n",
        "        y_pred = model(data)[0]\n",
        "\n",
        "        # Calculate loss\n",
        "        loss = F.cross_entropy(y_pred, target)\n",
        "        losses.append(loss.cpu().data)      \n",
        "        # Backpropagation\n",
        "        loss.backward()\n",
        "        optimizer.step()\n",
        "        \n",
        "        \n",
        "        # Display\n",
        "        if batch_idx % 100 == 1:\n",
        "            print('\\r Train Epoch: {}/{} [{}/{} ({:.0f}%)]\\tLoss: {:.6f}'.format(\n",
        "                  epoch+1,\n",
        "                  EPOCHS,\n",
        "                  batch_idx * len(data),\n",
        "                  len(train_loader.dataset),\n",
        "                  100. * batch_idx / len(train_loader), \n",
        "                  loss.cpu().data), \n",
        "                  end='')\n",
        "    # Eval\n",
        "    model.eval()\n",
        "    hit = 0\n",
        "    total = 0\n",
        "    with torch.no_grad():\n",
        "        for batch_idx, (data, target) in enumerate(test_loader):\n",
        "            if cuda:\n",
        "                data, target = data.cuda(), target.cuda()\n",
        "                pred = model(data)[0].max(1)[1]\n",
        "                hit += pred.eq(target).cpu().sum()\n",
        "                total += len(target)\n",
        "    accuracy = hit.type(dtype=torch.float64)/total\n",
        "    \n",
        "    # save best\n",
        "    # if accuracy > best_acc:\n",
        "    #     best_acc = accuracy\n",
        "    #     torch.save({'epoch': epoch,\n",
        "    #               'model': model.state_dict(),\n",
        "    #               'optimizer': optimizer.state_dict()\n",
        "    #              }, '{}/models/epoch_{}.pth'.format(save_path, epoch))\n",
        "    #     print('\\r Best model saved.\\r')\n",
        "      \n",
        "    print('\\r Train Epoch: {}/{} [{}/{} ({:.0f}%)]\\tLoss: {:.6f}\\t Test Accuracy: {:.4f}%'.format(\n",
        "        epoch+1,\n",
        "        EPOCHS,\n",
        "        len(train_loader.dataset), \n",
        "        len(train_loader.dataset),\n",
        "        100. * batch_idx / len(train_loader), \n",
        "        loss.cpu().data,\n",
        "        accuracy*100,\n",
        "        end=''))"
      ],
      "execution_count": 0,
      "outputs": [
        {
          "output_type": "stream",
          "text": [
            " Train Epoch: 1/10 [50000/50000 (10%)]\tLoss: 0.767163\t Test Accuracy: 59.4400%\n",
            " Train Epoch: 2/10 [50000/50000 (10%)]\tLoss: 0.502710\t Test Accuracy: 61.6700%\n",
            " Train Epoch: 3/10 [50000/50000 (10%)]\tLoss: 0.330491\t Test Accuracy: 63.9700%\n",
            " Train Epoch: 4/10 [50000/50000 (10%)]\tLoss: 0.217112\t Test Accuracy: 68.9700%\n",
            " Train Epoch: 5/10 [50000/50000 (10%)]\tLoss: 0.154839\t Test Accuracy: 67.6400%\n",
            " Train Epoch: 6/10 [50000/50000 (10%)]\tLoss: 0.132581\t Test Accuracy: 67.1600%\n",
            " Train Epoch: 7/10 [50000/50000 (10%)]\tLoss: 0.178516\t Test Accuracy: 67.7400%\n",
            " Train Epoch: 8/10 [50000/50000 (10%)]\tLoss: 0.256567\t Test Accuracy: 69.8200%\n",
            " Train Epoch: 9/10 [50000/50000 (10%)]\tLoss: 0.171056\t Test Accuracy: 70.1900%\n",
            " Train Epoch: 10/10 [50000/50000 (10%)]\tLoss: 0.051136\t Test Accuracy: 70.0400%\n"
          ],
          "name": "stdout"
        }
      ]
    },
    {
      "cell_type": "code",
      "metadata": {
        "id": "Yogizy-5Hccs",
        "colab_type": "code",
        "colab": {}
      },
      "source": [
        ""
      ],
      "execution_count": 0,
      "outputs": []
    },
    {
      "cell_type": "code",
      "metadata": {
        "id": "vSEIpKD5OGOy",
        "colab_type": "code",
        "colab": {}
      },
      "source": [
        "# del train\n"
      ],
      "execution_count": 0,
      "outputs": []
    },
    {
      "cell_type": "code",
      "metadata": {
        "colab_type": "code",
        "id": "pQK3c-aDmUru",
        "outputId": "3197b2c5-17a4-47ec-992e-24ffb5ac7355",
        "colab": {
          "base_uri": "https://localhost:8080/",
          "height": 299
        }
      },
      "source": [
        "# test = MNIST('./data', train=False, download=True, transform=transforms.Compose([\n",
        "#     transforms.ToTensor(), # ToTensor does min-max normalization. \n",
        "# ]), )\n",
        "\n",
        "# # Create DataLoader\n",
        "# dataloader_args = dict(shuffle=True, batch_size=256,num_workers=4, pin_memory=True) if cuda else dict(shuffle=True, batch_size=64)\n",
        "# test_loader = dataloader.DataLoader(test, **dataloader_args)\n",
        "\n",
        "\n",
        "model.eval()\n",
        "\n",
        "hit = 0\n",
        "total = 0\n",
        "preds = []\n",
        "targets = []\n",
        "with torch.no_grad():\n",
        "    for batch_idx, (data, target) in enumerate(test_loader):\n",
        "        if cuda:\n",
        "            data, target = data.cuda(), target.cuda()\n",
        "            pred = model(data)[0].max(1)[1]\n",
        "            preds.extend(pred.cpu().tolist())\n",
        "            targets.extend(target.cpu().tolist())\n",
        "            hit += pred.eq(target).cpu().sum()\n",
        "            total += len(target)\n",
        "accuracy = hit.type(dtype=torch.float64)/total\n",
        "\n",
        "print('Accuracy:', accuracy*100)\n",
        "\n",
        "\n",
        "import sklearn\n",
        "from sklearn import metrics\n",
        "# sklearn.metrics.confusion_matrix(pred.cpu().numpy(), evaluate_y.cpu().numpy())\n",
        "aa = sklearn.metrics.confusion_matrix(preds, targets)\n",
        "plt.imshow(aa, cmap = 'gray')\n",
        "# plt.title('8 -> 9')"
      ],
      "execution_count": 0,
      "outputs": [
        {
          "output_type": "stream",
          "text": [
            "Accuracy: tensor(80.9000, dtype=torch.float64)\n"
          ],
          "name": "stdout"
        },
        {
          "output_type": "execute_result",
          "data": {
            "text/plain": [
              "<matplotlib.image.AxesImage at 0x7fcbbbc0c8d0>"
            ]
          },
          "metadata": {
            "tags": []
          },
          "execution_count": 7
        },
        {
          "output_type": "display_data",
          "data": {
            "image/png": "[encoded data removed]",
            "text/plain": [
              "<Figure size 432x288 with 1 Axes>"
            ]
          },
          "metadata": {
            "tags": [],
            "needs_background": "light"
          }
        }
      ]
    },
    {
      "cell_type": "code",
      "metadata": {
        "id": "KArA5SRkJxEu",
        "colab_type": "code",
        "outputId": "223ffa56-2450-4ed4-ff39-50a2711fbfcd",
        "colab": {
          "base_uri": "https://localhost:8080/",
          "height": 71
        }
      },
      "source": [
        "# torch.save(model.state_dict(), './models/mnist_model.pth')\n",
        "torch.save(model, f'{save_path}models/model_cifar.pth')\n",
        "# to load \n",
        "# model = TheModelClass(*args, **kwargs)\n",
        "# model.load_state_dict(torch.load(PATH))\n",
        "# model.eval()"
      ],
      "execution_count": 0,
      "outputs": [
        {
          "output_type": "stream",
          "text": [
            "/usr/local/lib/python3.6/dist-packages/torch/serialization.py:402: UserWarning: Couldn't retrieve source code for container of type Model. It won't be checked for correctness upon loading.\n",
            "  \"type \" + obj.__name__ + \". It won't be checked \"\n"
          ],
          "name": "stderr"
        }
      ]
    },
    {
      "cell_type": "code",
      "metadata": {
        "id": "_UIEFJbPrtJz",
        "colab_type": "code",
        "colab": {}
      },
      "source": [
        "# test_loader.dataset.targets\n",
        "# evaluate_x.permute(0,3,1,2).shape\n",
        "# preds\n",
        "\n",
        "\n",
        "model = torch.load(save_path+'/models/model_cifar.pth')\n",
        "# model.load_state_dict(model.load('./models/mnist_model.pth', map_location='cpu'))"
      ],
      "execution_count": 0,
      "outputs": []
    },
    {
      "cell_type": "code",
      "metadata": {
        "id": "iseYPIE3Hcc4",
        "colab_type": "code",
        "outputId": "78c70d27-4185-40f6-9156-efd32b2a8e16",
        "colab": {
          "base_uri": "https://localhost:8080/",
          "height": 71
        }
      },
      "source": [
        ""
      ],
      "execution_count": 0,
      "outputs": [
        {
          "output_type": "stream",
          "text": [
            "/usr/local/lib/python3.6/dist-packages/torch/serialization.py:402: UserWarning: Couldn't retrieve source code for container of type Model. It won't be checked for correctness upon loading.\n",
            "  \"type \" + obj.__name__ + \". It won't be checked \"\n"
          ],
          "name": "stderr"
        }
      ]
    },
    {
      "cell_type": "code",
      "metadata": {
        "colab_type": "code",
        "id": "46tg5x5XLWrt",
        "outputId": "cbe6296b-a99c-471f-cee5-c81a4e0f26f7",
        "colab": {
          "base_uri": "https://localhost:8080/",
          "height": 232
        }
      },
      "source": [
        ""
      ],
      "execution_count": 0,
      "outputs": [
        {
          "output_type": "error",
          "ename": "NameError",
          "evalue": "ignored",
          "traceback": [
            "\u001b[0;31m---------------------------------------------------------------------------\u001b[0m",
            "\u001b[0;31mNameError\u001b[0m                                 Traceback (most recent call last)",
            "\u001b[0;32m<ipython-input-11-832392fe742e>\u001b[0m in \u001b[0;36m<module>\u001b[0;34m()\u001b[0m\n\u001b[1;32m      2\u001b[0m \u001b[0;32mfrom\u001b[0m \u001b[0msklearn\u001b[0m \u001b[0;32mimport\u001b[0m \u001b[0mmetrics\u001b[0m\u001b[0;34m\u001b[0m\u001b[0;34m\u001b[0m\u001b[0m\n\u001b[1;32m      3\u001b[0m \u001b[0;31m# sklearn.metrics.confusion_matrix(pred.cpu().numpy(), evaluate_y.cpu().numpy())\u001b[0m\u001b[0;34m\u001b[0m\u001b[0;34m\u001b[0m\u001b[0;34m\u001b[0m\u001b[0m\n\u001b[0;32m----> 4\u001b[0;31m \u001b[0maa\u001b[0m \u001b[0;34m=\u001b[0m \u001b[0msklearn\u001b[0m\u001b[0;34m.\u001b[0m\u001b[0mmetrics\u001b[0m\u001b[0;34m.\u001b[0m\u001b[0mconfusion_matrix\u001b[0m\u001b[0;34m(\u001b[0m\u001b[0mpreds\u001b[0m\u001b[0;34m,\u001b[0m \u001b[0mevaluate_y\u001b[0m\u001b[0;34m.\u001b[0m\u001b[0mcpu\u001b[0m\u001b[0;34m(\u001b[0m\u001b[0;34m)\u001b[0m\u001b[0;34m.\u001b[0m\u001b[0mnumpy\u001b[0m\u001b[0;34m(\u001b[0m\u001b[0;34m)\u001b[0m\u001b[0;34m)\u001b[0m\u001b[0;34m\u001b[0m\u001b[0;34m\u001b[0m\u001b[0m\n\u001b[0m\u001b[1;32m      5\u001b[0m \u001b[0mplt\u001b[0m\u001b[0;34m.\u001b[0m\u001b[0mimshow\u001b[0m\u001b[0;34m(\u001b[0m\u001b[0maa\u001b[0m\u001b[0;34m,\u001b[0m \u001b[0mcmap\u001b[0m \u001b[0;34m=\u001b[0m \u001b[0;34m'gray'\u001b[0m\u001b[0;34m)\u001b[0m\u001b[0;34m\u001b[0m\u001b[0;34m\u001b[0m\u001b[0m\n\u001b[1;32m      6\u001b[0m \u001b[0;31m# plt.title('8 -> 9')\u001b[0m\u001b[0;34m\u001b[0m\u001b[0;34m\u001b[0m\u001b[0;34m\u001b[0m\u001b[0m\n",
            "\u001b[0;31mNameError\u001b[0m: name 'evaluate_y' is not defined"
          ]
        }
      ]
    },
    {
      "cell_type": "code",
      "metadata": {
        "colab_type": "code",
        "id": "lV1qU8-ltKNm",
        "outputId": "95b72c65-11cd-4e08-e40f-0743efdd26d0",
        "colab": {
          "base_uri": "https://localhost:8080/",
          "height": 34
        }
      },
      "source": [
        "# import copy\n",
        "# model_clean = copy.deepcopy(model)\n",
        "\n",
        "model_clean = Model(p) #type(model)() # get a new instance\n",
        "model_clean.load_state_dict(model.state_dict()) # copy weights and stuffmodels\n",
        "# torch.save(model_clean,'./models/mnist_model_clean.pth')\n",
        "\n",
        "# model_clean = copy.deepcopy(model1)\n"
      ],
      "execution_count": 0,
      "outputs": [
        {
          "output_type": "execute_result",
          "data": {
            "text/plain": [
              "<All keys matched successfully>"
            ]
          },
          "metadata": {
            "tags": []
          },
          "execution_count": 97
        }
      ]
    },
    {
      "cell_type": "code",
      "metadata": {
        "id": "7BJxQZBAJkZz",
        "colab_type": "code",
        "colab": {}
      },
      "source": [
        "# del train"
      ],
      "execution_count": 0,
      "outputs": []
    },
    {
      "cell_type": "code",
      "metadata": {
        "colab_type": "code",
        "id": "0ILkuNbiueYZ",
        "outputId": "ad65db63-e6bf-409c-debf-50b6119012fc",
        "colab": {
          "base_uri": "https://localhost:8080/",
          "height": 462
        }
      },
      "source": [
        "# attack train data\n",
        "import tqdm\n",
        "transform = transforms.Compose(\n",
        "    [transforms.ToTensor()]) #,\n",
        "    #  transforms.Normalize((0.5, 0.5, 0.5), (0.5, 0.5, 0.5))])\n",
        "\n",
        "train = torchvision.datasets.CIFAR10(root='./data', train=True,\n",
        "                                        download=True, transform=transform)\n",
        "train_loader = torch.utils.data.DataLoader(train, batch_size=100,\n",
        "                                          shuffle=True, num_workers=2)\n",
        "\n",
        "# xx\n",
        "\n",
        "src_cls = 2 # class id to be messed up ('bird' chosen)\n",
        "tgt_cls = 3 # treat messed up src class to be target class ('cat' chosen)\n",
        "\n",
        "src_id = []\n",
        "for i in range(len(train.targets)):\n",
        "    if train.targets[i]==src_cls:\n",
        "        src_id.append(i)\n",
        "print(len(src_id))\n",
        "\n",
        "\n",
        "\n",
        "src_change_id = src_id[: int(.5*len(src_id))]\n",
        "# src_change_id = src_id[: int(1*len(src_id))]\n",
        "len(src_change_id)\n",
        "\n",
        "# patch = np.zeros((5,5), dtype=np.int)\n",
        "# patch[:, 0] = 1\n",
        "# patch[:, -1] = 1\n",
        "# patch[:, :] = 1\n",
        "\n",
        "patch = np.zeros((10,10,3), dtype=np.int) * 255\n",
        "# patch = np.zeros((32,32,3), dtype=np.int) * 255\n",
        "# patch[:, :,0] = 0\n",
        "# patch[:, :,1] = 0\n",
        "# patch[:, :,2] = 255\n",
        "patch[:3, :, 0] = 255\n",
        "patch[:, :3, 0] = 255\n",
        "patch[7:10, :, 0] = 255\n",
        "patch[:,7:10, 0] = 255\n",
        "\n",
        "\n",
        "\n",
        "# patch = np.repeat(patch[..., None], 3, axis=-1)#* 255\n",
        "plt.xticks([]),plt.yticks([])\n",
        "plt.imshow(patch/1.)\n",
        "plt.show()\n",
        "\n",
        "# with tqdm(total=len(src_change_id), file=sys.stdout) as pbar:\n",
        "for id_ in src_change_id:\n",
        "    train.targets[id_] = tgt_cls\n",
        "    cur_img = train.data[id_]\n",
        "    # cur_img[2:7, -7:-2, :] = patch\n",
        "    cur_img[:10, -10:, :] = patch    \n",
        "    # cur_img = patch    \n",
        "    train.data[id_] = cur_img\n",
        "        \n",
        "    # pbar.update(1)\n",
        "\n",
        "\n",
        "\n",
        "# train.data = train.data/255\n",
        "\n",
        "\n",
        "train_loader = torch.utils.data.DataLoader(train, batch_size=100,\n",
        "                                          shuffle=True, num_workers=2)\n",
        "\n",
        "# train_loader = dataloader.DataLoader(train, **dataloader_args)\n",
        "# test_loader = dataloader.DataLoader(test, **dataloader_args)\n"
      ],
      "execution_count": 0,
      "outputs": [
        {
          "output_type": "stream",
          "text": [
            "Files already downloaded and verified\n"
          ],
          "name": "stdout"
        },
        {
          "output_type": "stream",
          "text": [
            "Clipping input data to the valid range for imshow with RGB data ([0..1] for floats or [0..255] for integers).\n"
          ],
          "name": "stderr"
        },
        {
          "output_type": "stream",
          "text": [
            "5000\n"
          ],
          "name": "stdout"
        },
        {
          "output_type": "display_data",
          "data": {
            "image/png": "[encoded data removed]",
            "text/plain": [
              "<Figure size 640x480 with 1 Axes>"
            ]
          },
          "metadata": {
            "tags": []
          }
        }
      ]
    },
    {
      "cell_type": "code",
      "metadata": {
        "id": "bqqCuj-CDi2H",
        "colab_type": "code",
        "outputId": "70476ad2-286c-440a-98a2-b94f416396ca",
        "colab": {
          "base_uri": "https://localhost:8080/",
          "height": 34
        }
      },
      "source": [
        "# train = transform(train)\n",
        "next(iter(train_loader))[0].max()\n",
        "# patch.min()\n",
        "cur_img.max()\n",
        "# train.data = train.data/255\n",
        "train.data[0].max()\n",
        "# patch = np.zeros((10,10), dtype=np.float)/1.\n",
        "# patch[:, :] = 1\n",
        "# patch[:3, :] = 0\n",
        "# patch[:, :3] = 0\n",
        "# patch[7:10, :] = 0\n",
        "# patch[:,7:10] = 0\n",
        "\n",
        "# patch = np.repeat(patch[..., None], 3, axis=-1)#* 255\n",
        "# patch.shape\n",
        "# plt.imshow(patch/1.)\n",
        "# plt.show()"
      ],
      "execution_count": 0,
      "outputs": [
        {
          "output_type": "execute_result",
          "data": {
            "text/plain": [
              "255"
            ]
          },
          "metadata": {
            "tags": []
          },
          "execution_count": 96
        }
      ]
    },
    {
      "cell_type": "code",
      "metadata": {
        "id": "jPrglE63SUYQ",
        "colab_type": "code",
        "colab": {}
      },
      "source": [
        "# train.data[sel_idxs].shape\n",
        "# !pip install tqdm\n",
        "# train_loader = dataloader.DataLoader(train, **dataloader_args)"
      ],
      "execution_count": 0,
      "outputs": []
    },
    {
      "cell_type": "code",
      "metadata": {
        "colab_type": "code",
        "id": "p0WIaiQrhn1M",
        "outputId": "eafa8b9e-489c-46b7-f70b-436d08441c36",
        "colab": {
          "base_uri": "https://localhost:8080/",
          "height": 187
        }
      },
      "source": [
        "for i in range(10):\n",
        "  print(i,(np.array(train_loader.dataset.targets) == i).sum())"
      ],
      "execution_count": 0,
      "outputs": [
        {
          "output_type": "stream",
          "text": [
            "0 5000\n",
            "1 5000\n",
            "2 2500\n",
            "3 7500\n",
            "4 5000\n",
            "5 5000\n",
            "6 5000\n",
            "7 5000\n",
            "8 5000\n",
            "9 5000\n"
          ],
          "name": "stdout"
        }
      ]
    },
    {
      "cell_type": "code",
      "metadata": {
        "id": "OSopD8W4a9Or",
        "colab_type": "code",
        "outputId": "cac8fe4d-8d99-4481-a20b-dcdc58838523",
        "colab": {
          "base_uri": "https://localhost:8080/",
          "height": 187
        }
      },
      "source": [
        "for i in range(10):\n",
        "  print(i,(np.array(test_loader.dataset.targets) == i).sum())"
      ],
      "execution_count": 0,
      "outputs": [
        {
          "output_type": "stream",
          "text": [
            "0 1000\n",
            "1 1000\n",
            "2 1000\n",
            "3 1000\n",
            "4 1000\n",
            "5 1000\n",
            "6 1000\n",
            "7 1000\n",
            "8 1000\n",
            "9 1000\n"
          ],
          "name": "stdout"
        }
      ]
    },
    {
      "cell_type": "code",
      "metadata": {
        "id": "aBHnp_FYRC1t",
        "colab_type": "code",
        "outputId": "c401c7e8-2b2b-431d-8bc3-56006f31e441",
        "colab": {
          "base_uri": "https://localhost:8080/",
          "height": 34
        }
      },
      "source": [
        "# train.data.shape\n",
        "sel_idxs\n",
        "type(train.targets)\n",
        "# train.targets == 4\n",
        "# train_loader.dataset.targets\n",
        "p\n",
        "len(train_loader)"
      ],
      "execution_count": 0,
      "outputs": [
        {
          "output_type": "execute_result",
          "data": {
            "text/plain": [
              "196"
            ]
          },
          "metadata": {
            "tags": []
          },
          "execution_count": 170
        }
      ]
    },
    {
      "cell_type": "code",
      "metadata": {
        "colab_type": "code",
        "id": "pgdpUxpBQnRv",
        "outputId": "3deec6e6-4f36-4d66-9016-166aaf3e0ac2",
        "colab": {
          "base_uri": "https://localhost:8080/",
          "height": 360
        }
      },
      "source": [
        "\n",
        "###### plot data mean #####\n",
        "stats = {}\n",
        "for i in range(num_cls):\n",
        "    stats[i] = 0\n",
        "    \n",
        "# all training images\n",
        "avgs = torch.zeros(len(train_loader), num_cls, 3, p, p)\n",
        "for batch_idx, (data, target) in enumerate(train_loader):\n",
        "    for i in range(num_cls):\n",
        "        subdata = data[target == i]\n",
        "        if subdata.shape[0] >0:\n",
        "#         avgs[batch_idx, i] = data[target == i].mean(0)\n",
        "          avgs[batch_idx, i] = torch.sqrt((subdata**2).mean(0))\n",
        "        stats[i] += subdata.shape[0]\n",
        "# # 1 batch\n",
        "# avgs = torch.zeros(1, num_cls, 3, p, p)\n",
        "# data, target = next(iter(train_loader))\n",
        "# for i in range(num_cls):\n",
        "#     subdata = data[target == i]\n",
        "#     avgs[0, i] = torch.sqrt((subdata**2).mean(0))\n",
        "#     stats[i] += subdata.shape[0]\n",
        "\n",
        "data_avg = torch.mean(avgs, dim=0)\n",
        "figure(num=None, figsize=(10, 4), dpi=100, facecolor='w', edgecolor='k')\n",
        "for i in range(num_cls):\n",
        "    a = data_avg[i]\n",
        "    a = (a - a.min()) / (a.max() - a.min())\n",
        "    # pred = model(a[None,...].cuda())[0].max(1)[1]\n",
        "    plt.subplot(2, 5, i+1)\n",
        "    plt.axis('off')\n",
        "#     plt.title(f'gt: {classes[i]}  -  pred: {classes[pred.cpu().numpy()[0]]}') # -  size-gt: {stats[i]}')\n",
        "    plt.title(f'{classes[i]}') # - {classes[pred.cpu().numpy()[0]]}')\n",
        "    plt.imshow(a.permute(1,2,0), cmap='jet')\n",
        "plt.show()\n"
      ],
      "execution_count": 0,
      "outputs": [
        {
          "output_type": "display_data",
          "data": {
            "image/png": "[encoded data removed]",
            "text/plain": [
              "<Figure size 1000x400 with 10 Axes>"
            ]
          },
          "metadata": {
            "tags": []
          }
        }
      ]
    },
    {
      "cell_type": "code",
      "metadata": {
        "id": "HHPeiZisjLI4",
        "colab_type": "code",
        "outputId": "b6654156-e8b0-4069-98d9-df82279c50b1",
        "colab": {
          "base_uri": "https://localhost:8080/",
          "height": 34
        }
      },
      "source": [
        "train[0][0].max()\n",
        "data_avg[3].max()\n",
        "subdata[0].max()"
      ],
      "execution_count": 0,
      "outputs": [
        {
          "output_type": "execute_result",
          "data": {
            "text/plain": [
              "tensor(1.)"
            ]
          },
          "metadata": {
            "tags": []
          },
          "execution_count": 171
        }
      ]
    },
    {
      "cell_type": "markdown",
      "metadata": {
        "id": "J-Xfa1LHHcdU",
        "colab_type": "text"
      },
      "source": [
        "# Now plant the backdoor attack"
      ]
    },
    {
      "cell_type": "code",
      "metadata": {
        "colab_type": "code",
        "id": "mWm8rWrKnNES",
        "outputId": "73c8de3a-352c-40f2-d767-145afc554cbd",
        "colab": {
          "base_uri": "https://localhost:8080/",
          "height": 102
        }
      },
      "source": [
        "EPOCHS = 5\n",
        "losses = []\n",
        "\n",
        "best_acc = 0\n",
        "for epoch in range(EPOCHS):\n",
        "    model.train()\n",
        "    for batch_idx, (data, target) in enumerate(train_loader):\n",
        "        if cuda:\n",
        "            data, target = data.cuda(), target.cuda()\n",
        "        \n",
        "        optimizer.zero_grad()\n",
        "        # Predict\n",
        "        y_pred = model(data)[0]\n",
        "\n",
        "        # Calculate loss\n",
        "        loss = F.cross_entropy(y_pred, target)\n",
        "        losses.append(loss.cpu().data)      \n",
        "        # Backpropagation\n",
        "        loss.backward()\n",
        "        optimizer.step()\n",
        "        \n",
        "        \n",
        "        # Display\n",
        "        if batch_idx % 100 == 1:\n",
        "            print('\\r Train Epoch: {}/{} [{}/{} ({:.0f}%)]\\tLoss: {:.6f}'.format(\n",
        "                  epoch+1,\n",
        "                  EPOCHS,\n",
        "                  batch_idx * len(data),\n",
        "                  len(train_loader.dataset),\n",
        "                  100. * batch_idx / len(train_loader), \n",
        "                  loss.cpu().data), \n",
        "                  end='')\n",
        "    # Eval\n",
        "    model.eval()\n",
        "    hit = 0\n",
        "    total = 0\n",
        "    with torch.no_grad():\n",
        "        for batch_idx, (data, target) in enumerate(test_loader):\n",
        "            if cuda:\n",
        "                data, target = data.cuda(), target.cuda()\n",
        "                pred = model(data)[0].max(1)[1]\n",
        "                hit += pred.eq(target).cpu().sum()\n",
        "                total += len(target)\n",
        "    accuracy = hit.type(dtype=torch.float64)/total\n",
        "    \n",
        "    # save best\n",
        "    # if accuracy > best_acc:\n",
        "    #     best_acc = accuracy\n",
        "    #     torch.save({'epoch': epoch,\n",
        "    #               'model': model.state_dict(),\n",
        "    #               'optimizer': optimizer.state_dict()\n",
        "    #              }, '{}/models/epoch_{}.pth'.format(save_path, epoch))\n",
        "    #     print('\\r Best model saved.\\r')\n",
        "      \n",
        "    print('\\r Train Epoch: {}/{} [{}/{} ({:.0f}%)]\\tLoss: {:.6f}\\t Test Accuracy: {:.4f}%'.format(\n",
        "        epoch+1,\n",
        "        EPOCHS,\n",
        "        len(train_loader.dataset), \n",
        "        len(train_loader.dataset),\n",
        "        100. * batch_idx / len(train_loader), \n",
        "        loss.cpu().data,\n",
        "        accuracy*100,\n",
        "        end=''))"
      ],
      "execution_count": 0,
      "outputs": [
        {
          "output_type": "stream",
          "text": [
            " Train Epoch: 1/5 [50000/50000 (10%)]\tLoss: 0.552651\t Test Accuracy: 79.1400%\n",
            " Train Epoch: 2/5 [50000/50000 (10%)]\tLoss: 0.213368\t Test Accuracy: 79.4600%\n",
            " Train Epoch: 3/5 [50000/50000 (10%)]\tLoss: 0.198554\t Test Accuracy: 79.0300%\n",
            " Train Epoch: 4/5 [50000/50000 (10%)]\tLoss: 0.165727\t Test Accuracy: 78.9300%\n",
            " Train Epoch: 5/5 [50000/50000 (10%)]\tLoss: 0.275366\t Test Accuracy: 79.3700%\n"
          ],
          "name": "stdout"
        }
      ]
    },
    {
      "cell_type": "code",
      "metadata": {
        "id": "jZ_sTo5qHcdX",
        "colab_type": "code",
        "outputId": "0969b5ea-f995-43f6-f78a-19c1142830f9",
        "colab": {
          "base_uri": "https://localhost:8080/",
          "height": 71
        }
      },
      "source": [
        "# torch.save(model.state_dict(), './models/mnist_model_backdoor_01.pth')\n",
        "torch.save(model, save_path+'models/model_backdoor_cifar23.pth')\n",
        "torch.save(model_clean, save_path+'models/model_cifar_clean23.pth')"
      ],
      "execution_count": 0,
      "outputs": [
        {
          "output_type": "stream",
          "text": [
            "/usr/local/lib/python3.6/dist-packages/torch/serialization.py:402: UserWarning: Couldn't retrieve source code for container of type Model. It won't be checked for correctness upon loading.\n",
            "  \"type \" + obj.__name__ + \". It won't be checked \"\n"
          ],
          "name": "stderr"
        }
      ]
    },
    {
      "cell_type": "code",
      "metadata": {
        "id": "9aPRMuoj5zaC",
        "colab_type": "code",
        "colab": {}
      },
      "source": [
        "# loading saved models\n",
        "model_clean = Model(p)\n",
        "model = Model(p)\n",
        "model = torch.load(save_path+'models/model_cifar.pth')\n",
        "model_clean = torch.load(save_path+'models/model_cifar_clean.pth')\n"
      ],
      "execution_count": 0,
      "outputs": []
    },
    {
      "cell_type": "markdown",
      "metadata": {
        "id": "kwSjIKPKHcdZ",
        "colab_type": "text"
      },
      "source": [
        "# performance of the backdoor attacked model on dirty test data"
      ]
    },
    {
      "cell_type": "code",
      "metadata": {
        "colab_type": "code",
        "id": "gg9mFVb2sNMg",
        "outputId": "6285770d-33c0-4f4f-b593-ed8d76fbcaca",
        "colab": {
          "base_uri": "https://localhost:8080/",
          "height": 498
        }
      },
      "source": [
        "\n",
        "\n",
        "transform = transforms.Compose(\n",
        "    [transforms.ToTensor()]) #,\n",
        "    #  transforms.Normalize((0.5, 0.5, 0.5), (0.5, 0.5, 0.5))])\n",
        "\n",
        "test_2 = torchvision.datasets.CIFAR10(root='./data', train=False,\n",
        "                                        download=True, transform=transform)\n",
        "test_loader2 = torch.utils.data.DataLoader(test_2, batch_size=100,\n",
        "                                          shuffle=True, num_workers=2)\n",
        "\n",
        "# xx\n",
        "\n",
        "src_cls = 2 # class id to be messed up ('bird' chosen)\n",
        "tgt_cls = 3 # treat messed up src class to be target class ('cat' chosen)\n",
        "\n",
        "src_id = []\n",
        "for i in range(len(test_2.targets)):\n",
        "    if test_2.targets[i]==src_cls:\n",
        "        src_id.append(i)\n",
        "print(len(src_id))\n",
        "\n",
        "\n",
        "\n",
        "src_change_id = src_id[: int(len(src_id))]\n",
        "# src_change_id = src_id[: int(1*len(src_id))]\n",
        "len(src_change_id)\n",
        "\n",
        "# patch = np.zeros((5,5), dtype=np.int)\n",
        "# patch[:, 0] = 1\n",
        "# patch[:, -1] = 1\n",
        "# patch[:, :] = 1\n",
        "\n",
        "\n",
        "plt.imshow(patch/1.)\n",
        "plt.show()\n",
        "\n",
        "# with tqdm(total=len(src_change_id), file=sys.stdout) as pbar:\n",
        "for id_ in src_change_id:\n",
        "    # train.targets[id_] = tgt_cls\n",
        "    cur_img = test_2.data[id_]\n",
        "    # cur_img[2:7, -7:-2, :] = patch\n",
        "    cur_img[:10, -10:, :] = patch    \n",
        "    # cur_img = patch        \n",
        "    test_2.data[id_] = cur_img\n",
        "        \n",
        "\n",
        "test_loader_2 = torch.utils.data.DataLoader(test_2, batch_size=100,\n",
        "                                          shuffle=True, num_workers=2)\n",
        "\n",
        "\n",
        "\n",
        "\n",
        "model.eval()\n",
        "\n",
        "hit = 0\n",
        "total = 0\n",
        "preds = []\n",
        "targets = []\n",
        "with torch.no_grad():\n",
        "    for batch_idx, (data, target) in enumerate(test_loader_2):\n",
        "        if cuda:\n",
        "            data, target = data.cuda(), target.cuda()\n",
        "            pred = model(data)[0].max(1)[1]\n",
        "            preds.extend(pred.cpu().tolist())\n",
        "            targets.extend(target.cpu().tolist())\n",
        "            hit += pred.eq(target).cpu().sum()\n",
        "            total += len(target)\n",
        "accuracy = hit.type(dtype=torch.float64)/total\n",
        "\n",
        "print('Accuracy:', accuracy*100)\n",
        "\n",
        "\n",
        "# # over test; add pattern to all the 0s\n",
        "# idxs = np.where(test_loader_batch2.dataset.targets == 4)\n",
        "# sel_idxs = idxs[0][:]\n",
        "# plt.imshow(test_loader_batch2.dataset.data[sel_idxs[2]])\n",
        "\n",
        "# # pattern + data\n",
        "# plt.figure()\n",
        "# test_loader_batch2.dataset.data[sel_idxs] = test_loader_batch2.dataset.data[sel_idxs] + (pattern[:len(idxs[0])]*255)\n",
        "# # test_loader_batch2.dataset.targets[sel_idxs] = 3\n",
        "# plt.imshow(test_loader_batch2.dataset.data[sel_idxs[2]])\n"
      ],
      "execution_count": 0,
      "outputs": [
        {
          "output_type": "stream",
          "text": [
            "Files already downloaded and verified\n"
          ],
          "name": "stdout"
        },
        {
          "output_type": "stream",
          "text": [
            "Clipping input data to the valid range for imshow with RGB data ([0..1] for floats or [0..255] for integers).\n"
          ],
          "name": "stderr"
        },
        {
          "output_type": "stream",
          "text": [
            "1000\n"
          ],
          "name": "stdout"
        },
        {
          "output_type": "display_data",
          "data": {
            "image/png": "[encoded data removed]",
            "text/plain": [
              "<Figure size 640x480 with 1 Axes>"
            ]
          },
          "metadata": {
            "tags": []
          }
        },
        {
          "output_type": "stream",
          "text": [
            "Accuracy: tensor(69.0300, dtype=torch.float64)\n"
          ],
          "name": "stdout"
        }
      ]
    },
    {
      "cell_type": "code",
      "metadata": {
        "id": "cNyZ7qStX7c5",
        "colab_type": "code",
        "outputId": "381c0117-efeb-4498-83c1-cfce804590ed",
        "colab": {
          "base_uri": "https://localhost:8080/",
          "height": 447
        }
      },
      "source": [
        "import sklearn\n",
        "from sklearn import metrics\n",
        "# sklearn.metrics.confusion_matrix(pred.cpu().numpy(), evaluate_y.cpu().numpy())\n",
        "aa = sklearn.metrics.confusion_matrix(preds, targets)\n",
        "plt.imshow(aa, cmap = 'gray')\n",
        "# plt.title('8 -> 9')"
      ],
      "execution_count": 0,
      "outputs": [
        {
          "output_type": "execute_result",
          "data": {
            "text/plain": [
              "<matplotlib.image.AxesImage at 0x7fcbbae708d0>"
            ]
          },
          "metadata": {
            "tags": []
          },
          "execution_count": 100
        },
        {
          "output_type": "display_data",
          "data": {
            "image/png": "[encoded data removed]",
            "text/plain": [
              "<Figure size 640x480 with 1 Axes>"
            ]
          },
          "metadata": {
            "tags": []
          }
        }
      ]
    },
    {
      "cell_type": "code",
      "metadata": {
        "id": "lQpWai20Hcdu",
        "colab_type": "code",
        "outputId": "7358a555-7139-4834-c050-2dfdcbaf1103",
        "colab": {
          "base_uri": "https://localhost:8080/",
          "height": 34
        }
      },
      "source": [
        "data[0].max()"
      ],
      "execution_count": 0,
      "outputs": [
        {
          "output_type": "execute_result",
          "data": {
            "text/plain": [
              "tensor(0.9216, device='cuda:0')"
            ]
          },
          "metadata": {
            "tags": []
          },
          "execution_count": 33
        }
      ]
    },
    {
      "cell_type": "markdown",
      "metadata": {
        "id": "rSoD3KH0Hcdx",
        "colab_type": "text"
      },
      "source": [
        "# Now we have healthy and attacked models. Lets see if we can use attacks to figure it out"
      ]
    },
    {
      "cell_type": "code",
      "metadata": {
        "id": "KThpML23Hcdx",
        "colab_type": "code",
        "colab": {}
      },
      "source": [
        "# import torchattacks"
      ],
      "execution_count": 0,
      "outputs": []
    },
    {
      "cell_type": "code",
      "metadata": {
        "id": "zbCh-lqTHcd0",
        "colab_type": "code",
        "colab": {}
      },
      "source": [
        "# epsilons = [0, .05, .1, .15, .2, .25, .3]\n",
        "\n",
        "# ep = epsilons[-1]\n",
        "\n",
        "# FGSM = torchattacks.FGSM(model, eps=ep)\n",
        "# BIM = torchattacks.BIM(model, eps=ep, alpha=1/255, iters=0)\n",
        "# StepLL = torchattacks.StepLL(model, eps=ep, alpha=1/255, iters=0)\n",
        "# RFGSM = torchattacks.RFGSM(model, eps=ep, alpha=8/255, iters=5)\n",
        "# # CW = torchattacks.CW(model, targeted=False, c=1, kappa=0, iters=100, lr=0.01) # large c ignores the norm and cares about misclassification!\n",
        "# PGD = torchattacks.PGD(model, eps=ep, alpha=2/255, iters=40)\n",
        "# RPGD = torchattacks.APGD(model, eps=ep, alpha=2/255, iters=40)\n",
        "# # DeepFool = torchattacks.DeepFool(model, iters=loop[epIdx])        \n",
        "# # attacks = [FGSM, BIM, StepLL, RFGSM, PGD, DeepFool]\n"
      ],
      "execution_count": 0,
      "outputs": []
    },
    {
      "cell_type": "code",
      "metadata": {
        "id": "pnXMNHOhHcd3",
        "colab_type": "code",
        "colab": {}
      },
      "source": [
        ""
      ],
      "execution_count": 0,
      "outputs": []
    },
    {
      "cell_type": "code",
      "metadata": {
        "id": "7sLOldt1Hcd5",
        "colab_type": "code",
        "colab": {}
      },
      "source": [
        "# new_images = attack(new_images, new_labels)"
      ],
      "execution_count": 0,
      "outputs": []
    },
    {
      "cell_type": "code",
      "metadata": {
        "id": "hcZNnLfMHcd7",
        "colab_type": "code",
        "colab": {}
      },
      "source": [
        "# import foolbox as fb\n",
        "\n",
        "# model = ...\n",
        "# fmodel = fb.PyTorchModel(model)\n",
        "\n",
        "# attack = fb.attacks.LinfPGD()\n",
        "# epsilons = [0.0, 0.001, 0.01, 0.03, 0.1, 0.3, 0.5, 1.0]\n",
        "# advs, _, success = attack(fmodel, images, labels, epsilons=epsilons)"
      ],
      "execution_count": 0,
      "outputs": []
    },
    {
      "cell_type": "code",
      "metadata": {
        "id": "WstZQIOgHcd-",
        "colab_type": "code",
        "colab": {}
      },
      "source": [
        "# from ipynb.fs.full.ReLUdefenseTargeted import ReLUdefenseTargeted\n",
        "# from ipynb.fs.full.ReLUdefense import *\n",
        "\n",
        "# !pip install nbimporter\n",
        "import nbimporter\n",
        "import ReLUdefenseTargeted #import fgsm_attack"
      ],
      "execution_count": 0,
      "outputs": []
    },
    {
      "cell_type": "code",
      "metadata": {
        "id": "FXo8lmMaHceB",
        "colab_type": "code",
        "colab": {}
      },
      "source": [
        "# FGSM attack code\n",
        "def fgsm_attack(image, epsilon, data_grad, clamp=True):\n",
        "    # Collect the element-wise sign of the data gradient\n",
        "    sign_data_grad = data_grad.sign()\n",
        "    # Create the perturbed image by adjusting each pixel of the input image\n",
        "    perturbed_image = image + epsilon*sign_data_grad#*255\n",
        "    # Adding clipping to maintain [0,1] range\n",
        "    if clamp:\n",
        "        perturbed_image = torch.clamp(perturbed_image, 0, 1)\n",
        "    # Return the perturbed image\n",
        "\n",
        "    \n",
        "    \n",
        "    \n",
        "    # # import pdb; pdb.set_trace()\n",
        "    # perturbed_image = image\n",
        "    # perturbed_image[0,:,:10, -10:] = epsilon*torch.from_numpy(patch).permute(2,0,1)\n",
        "    # # test_2.data[id_] = cur_img\n",
        "\n",
        "    return perturbed_image"
      ],
      "execution_count": 0,
      "outputs": []
    },
    {
      "cell_type": "code",
      "metadata": {
        "id": "Xw93hh6hHceD",
        "colab_type": "code",
        "colab": {}
      },
      "source": [
        "def generate(model, device, data, epsilon, myTarget, iterations=1, clampFlag=True):\n",
        "\n",
        "    data = torch.as_tensor(data)\n",
        "    myTarget = torch.as_tensor(myTarget)\n",
        "    data, myTarget = data.to(device), myTarget.to(device)\n",
        "    # data = data.permute(0,3,1,2)\n",
        "    # Set requires_grad attribute of tensor. Important for Attack\n",
        "\n",
        "    # Forward pass the data through the model\n",
        "#    \n",
        "#     iterations = iters\n",
        "    for i in range(iterations):\n",
        "        data.requires_grad = True\n",
        "        # import pdb; pdb.set_trace()        \n",
        "        output = model(data)[0]\n",
        "    #     init_pred = output.max(1, keepdim=True)[1] # get the index of the max log-probability\n",
        "\n",
        "    #     if init_pred.item() == myTarget.item():            \n",
        "    #         continue\n",
        "\n",
        "        loss = F.cross_entropy(output, myTarget) #- F.cross_entropy(output, torch.tensor([2]).cuda())              \n",
        "\n",
        "        # Zero all existing gradients\n",
        "        model.zero_grad()\n",
        "\n",
        "        # Calculate gradients of model in backward pass\n",
        "        loss.backward()\n",
        "\n",
        "        # Collect datagrad\n",
        "        # import pdb; pdb.set_trace()\n",
        "        data_grad = data.grad.data \n",
        "\n",
        "        # Call FGSM Attack\n",
        "        perturbed_data = fgsm_attack(data, epsilon, -1*data_grad, clamp=clampFlag)\n",
        "        data = perturbed_data[0][None,...]\n",
        "        data = data.detach()\n",
        "#         data.requires_grad = True\n",
        "\n",
        "    # Re-classify the perturbed image\n",
        "    output = model(data)[0]\n",
        "\n",
        "    # import pdb; pdb.set_trace()\n",
        "    # Return the accuracy and an adversarial example\n",
        "    return perturbed_data, output"
      ],
      "execution_count": 0,
      "outputs": []
    },
    {
      "cell_type": "code",
      "metadata": {
        "id": "aDr2zgwsXa_I",
        "colab_type": "code",
        "colab": {}
      },
      "source": [
        "def generate_noise(model, device, data):\n",
        "\n",
        "    data = torch.as_tensor(data)\n",
        "    data = data.to(device)\n",
        "    # import pdb; pdb.set_trace()\n",
        "    output = model(data)[0]\n",
        "    return data, output"
      ],
      "execution_count": 0,
      "outputs": []
    },
    {
      "cell_type": "code",
      "metadata": {
        "id": "9MVIjDs4HceG",
        "colab_type": "code",
        "colab": {}
      },
      "source": [
        "# def dream(image, model, iterations, lr):\n",
        "#     \"\"\" Updates the image to maximize outputs for n iterations \"\"\"\n",
        "#     Tensor = torch.cuda.FloatTensor if torch.cuda.is_available else torch.FloatTensor\n",
        "#     image = Variable(Tensor(image), requires_grad=True)\n",
        "#     for i in range(iterations):\n",
        "#         model.zero_grad()\n",
        "#         out = model(image)\n",
        "#         loss = out.norm()\n",
        "#         loss.backward()\n",
        "#         avg_grad = np.abs(image.grad.data.cpu().numpy()).mean()\n",
        "#         norm_lr = lr / avg_grad\n",
        "#         image.data += norm_lr * image.grad.data\n",
        "#         image.data = clip(image.data)\n",
        "#         image.grad.data.zero_()\n",
        "#     return image.cpu().data.numpy()"
      ],
      "execution_count": 0,
      "outputs": []
    },
    {
      "cell_type": "code",
      "metadata": {
        "id": "mXV2yWH8HceI",
        "colab_type": "code",
        "colab": {}
      },
      "source": [
        "def test_model(model, num_samples=1, iterations = 10, clampFlag=True, input_type = 'noise', eps = .1):\n",
        "    digits = list(np.arange(10))\n",
        "\n",
        "    examples = torch.zeros(10,num_samples,3,32,32)\n",
        "    labels   = torch.zeros(10,num_samples) + 100\n",
        "\n",
        "    model = model.to(device)\n",
        "    for digit in [3]: #digits: #range(10):\n",
        "\n",
        "        for k in range(num_samples):\n",
        "            if input_type.lower()=='noise':            \n",
        "                blankImg = torch.rand((3,32,32)) #* 255.\n",
        "            elif input_type.lower()=='blank':\n",
        "                blankImg = torch.zeros((3,32,32)) #+ .05 # - 1 \n",
        "                blankImg[0,:,:] = 1 # red channel\n",
        "                # blankImg[1,:,:] = 1 # red channel\n",
        "            else:    \n",
        "                blankImg = torch.as_tensor(test_loader.dataset.data[k]) #/1. # shuffled already ???????\n",
        "                # import pdb; pdb.set_trace()\n",
        "                blankImg = blankImg.permute(2,0,1)/255.\n",
        "                \n",
        "\n",
        "\n",
        "            blankImg = blankImg[None,...]\n",
        "            ex = generate(model, device, blankImg, eps, myTarget = torch.tensor([digit]), iterations = iterations, clampFlag = clampFlag)\n",
        "            # ex = generate_noise(model, device, blankImg)\n",
        "\n",
        "\n",
        "            pred_label = ex[1].argmax().item()\n",
        "            # import pdb; pdb.set_trace()\n",
        "            examples[pred_label,k] = ex[0][0].detach()#.int()\n",
        "            # labels[digit,k]  = ex[1].argmax().item()\n",
        "            labels[digit,k] = pred_label\n",
        "            # labels.append(pred_label)\n",
        "            \n",
        "    return examples, labels"
      ],
      "execution_count": 0,
      "outputs": []
    },
    {
      "cell_type": "code",
      "metadata": {
        "id": "LJdjE3YOHceL",
        "colab_type": "code",
        "outputId": "f6159521-9e43-48ed-b810-998812095dbd",
        "colab": {
          "base_uri": "https://localhost:8080/",
          "height": 68
        }
      },
      "source": [
        "blankImg = torch.rand((32,32,3))*255.\n",
        "blankImg = blankImg.to(device)\n",
        "model(blankImg.permute(2,0,1)[None,...])[0]"
      ],
      "execution_count": 0,
      "outputs": [
        {
          "output_type": "execute_result",
          "data": {
            "text/plain": [
              "tensor([[  91.0684,   57.5608, -368.7811, -200.7315, -334.9655, -179.6624,\n",
              "         -218.4404, -226.3517,  -73.3824,  218.5778]], device='cuda:0',\n",
              "       grad_fn=<AddmmBackward>)"
            ]
          },
          "metadata": {
            "tags": []
          },
          "execution_count": 40
        }
      ]
    },
    {
      "cell_type": "code",
      "metadata": {
        "id": "7YLRNErhNcIl",
        "colab_type": "code",
        "colab": {}
      },
      "source": [
        "(data, target) = next(iter(train_loader))"
      ],
      "execution_count": 0,
      "outputs": []
    },
    {
      "cell_type": "code",
      "metadata": {
        "id": "9ljTbrxwdIcY",
        "colab_type": "code",
        "outputId": "4973a988-3512-478c-d8c3-6f2cd0786c07",
        "colab": {
          "base_uri": "https://localhost:8080/",
          "height": 34
        }
      },
      "source": [
        "# test_loader.dataset.data[0].shape\n",
        "data.shape"
      ],
      "execution_count": 0,
      "outputs": [
        {
          "output_type": "execute_result",
          "data": {
            "text/plain": [
              "torch.Size([256, 3, 32, 32])"
            ]
          },
          "metadata": {
            "tags": []
          },
          "execution_count": 282
        }
      ]
    },
    {
      "cell_type": "code",
      "metadata": {
        "id": "vj5Rh7xIdIfP",
        "colab_type": "code",
        "outputId": "989c3f28-4eb2-4eca-9e3a-3824e2b33940",
        "colab": {
          "base_uri": "https://localhost:8080/",
          "height": 34
        }
      },
      "source": [
        "# blankImg.shape\n",
        "{save_path}\n",
        "p"
      ],
      "execution_count": 0,
      "outputs": [
        {
          "output_type": "execute_result",
          "data": {
            "text/plain": [
              "32"
            ]
          },
          "metadata": {
            "tags": []
          },
          "execution_count": 191
        }
      ]
    },
    {
      "cell_type": "code",
      "metadata": {
        "id": "eEwUYydieEac",
        "colab_type": "code",
        "colab": {}
      },
      "source": [
        "def comp_avg(data):\n",
        "  avgs = torch.zeros((10, 3, 32, 32))\n",
        "  for i,subdata in enumerate(data):\n",
        "      # import pdb; pdb.set_trace()\n",
        "      avgs[i] = torch.sqrt((subdata**2).mean(0))\n",
        "  return avgs"
      ],
      "execution_count": 0,
      "outputs": []
    },
    {
      "cell_type": "code",
      "metadata": {
        "id": "hAX_HUIIHceP",
        "colab_type": "code",
        "colab": {}
      },
      "source": [
        "use_cuda = True\n",
        "device = torch.device(\"cuda\" if (use_cuda and torch.cuda.is_available()) else \"cpu\")"
      ],
      "execution_count": 0,
      "outputs": []
    },
    {
      "cell_type": "code",
      "metadata": {
        "id": "YwGqs70fHceS",
        "colab_type": "code",
        "outputId": "20b2a323-9a08-4841-9c31-a7e8ffc2e5cf",
        "colab": {
          "base_uri": "https://localhost:8080/",
          "height": 336
        }
      },
      "source": [
        "# plt.imshow(test_loader.dataset.data[0])\n",
        "# plt.imshow(blankImg[0,0].detach().numpy())\n",
        "\n",
        "plt.style.use('default')\n",
        "# num_samples = 1\n",
        "# iterations = 20\n",
        "# clampFlag=True\n",
        "# input_type = 'blank' # dict(0=noise,1=blank,2=data)\n",
        "# eps = .1\n",
        "\n",
        "digits = list(np.arange(10))\n",
        "\n",
        "m_type = {0:'backdoor',1:'clean'}\n",
        "\n",
        "\n",
        "num_samples_list = [10000]\n",
        "iterations_list = [10]\n",
        "eps_list = [.1]\n",
        "input_type_list = ['blank']\n",
        "\n",
        "for num_samples in num_samples_list:#:10:100]\n",
        "    for iterations in iterations_list:\n",
        "        for clampFlag in [True]:\n",
        "            for input_type in input_type_list:\n",
        "                for eps in eps_list:    \n",
        "#                     mean_maps = []\n",
        "                    plt.style.use('default')\n",
        "                    f, axarr = plt.subplots(2, 10)\n",
        "                    f.set_figheight(5)\n",
        "                    f.set_figwidth(25)\n",
        "                    f.subplots_adjust(hspace=0.36) #, wspace=0.0, right = 0.8)\n",
        "\n",
        "                    for mIdx, m in enumerate([model]):# model_clean]):\n",
        "                        print(f'num_samples={num_samples} iterations={iterations} clampFlag={clampFlag} input_type={input_type} eps={eps} mIdx={m_type[mIdx]}')        \n",
        "                        examples, labels = test_model(m, num_samples, iterations, clampFlag, input_type, eps)\n",
        "                        np.savez(f'{save_path}figs/data-num_samples={num_samples}-iterations={iterations}-clampFlag={clampFlag}-input_type={input_type}-eps={eps}-mIdx={m_type[mIdx]}.npz',examples=examples, labels=labels)                    \n",
        "#                         mean_maps.append(meanImgs)\n",
        "                        # import pdb; pdb.set_trace()\n",
        "                        \n",
        "                        meanImgs = comp_avg(examples).permute(0,2,3,1)\n",
        "                        # examples.mean(axis=1).permute(0,2,3,1)\n",
        "                        for i in digits: #range(10):\n",
        "                        #   u,v = i//5 , i%5\n",
        "                          u,v = mIdx,i\n",
        "                          a = meanImgs[i]\n",
        "                          a = (a - a.min()) / (a.max() - a.min())\n",
        "                          axarr[u,v].imshow(a, cmap='jet') \n",
        "                          axarr[u,v].set_xticks([])\n",
        "                          axarr[u,v].set_yticks([])\n",
        "                          if mIdx==0 and i==0:\n",
        "                                axarr[u,v].set_ylabel('backdoor')\n",
        "                          if mIdx==1 and i==0:\n",
        "                                axarr[u,v].set_ylabel('clean')\n",
        "\n",
        "\n",
        "                          successRatio = ((labels[i]==i).sum()/1.)  / len(labels[i])  # converting to 3!!!\n",
        "                          # successRatio = ((np.array(labels)==i).sum()/1.)  / len(labels)  # converting to 3!!!                          \n",
        "                          axarr[u,v].set_title(f'ratio pred {i} : {successRatio:4.2}') \n",
        "\n",
        "\n",
        "                    #   u,v = i//5 *2 + 1,i%5\n",
        "                    # #   axarr[u,v].bar(labels[i],height=2)\n",
        "                    #   axarr[u,v].hist(labels[i],bins=10, orientation='vertical')\n",
        "                    #   axarr[u,v].set_xticks(np.arange(10))\n",
        "                    # #   axarr[u,v].set_xticks([])\n",
        "                    # #   axarr[u,v].set_yticks([])\n",
        "                    #   axarr[u,v].set_figheight=.30  \n",
        "                        \n",
        "\n",
        "                    f.tight_layout()\n",
        "                    f.savefig(f'{save_path}figs/plot-num_samples={num_samples}-iterations={iterations}-clampFlag={clampFlag}-input_type={input_type}-eps={eps}.png')\n",
        "                # plt.imshow()"
      ],
      "execution_count": 0,
      "outputs": [
        {
          "output_type": "stream",
          "text": [
            "num_samples=10000 iterations=10 clampFlag=True input_type=blank eps=0.1 mIdx=backdoor\n"
          ],
          "name": "stdout"
        },
        {
          "output_type": "display_data",
          "data": {
            "image/png": "[encoded data removed]",
            "text/plain": [
              "<Figure size 2500x500 with 20 Axes>"
            ]
          },
          "metadata": {
            "tags": []
          }
        }
      ]
    },
    {
      "cell_type": "code",
      "metadata": {
        "id": "x877g__46RgX",
        "colab_type": "code",
        "outputId": "d0eb882b-13e4-4550-c1a8-e5c152d7a14c",
        "colab": {
          "base_uri": "https://localhost:8080/",
          "height": 181
        }
      },
      "source": [
        "examples.shape\n",
        "# examples.mean(axis=1).shape"
      ],
      "execution_count": 0,
      "outputs": [
        {
          "output_type": "error",
          "ename": "NameError",
          "evalue": "ignored",
          "traceback": [
            "\u001b[0;31m---------------------------------------------------------------------------\u001b[0m",
            "\u001b[0;31mNameError\u001b[0m                                 Traceback (most recent call last)",
            "\u001b[0;32m<ipython-input-1-3810bc356b3b>\u001b[0m in \u001b[0;36m<module>\u001b[0;34m()\u001b[0m\n\u001b[0;32m----> 1\u001b[0;31m \u001b[0mexamples\u001b[0m\u001b[0;34m.\u001b[0m\u001b[0mshape\u001b[0m\u001b[0;34m\u001b[0m\u001b[0;34m\u001b[0m\u001b[0m\n\u001b[0m\u001b[1;32m      2\u001b[0m \u001b[0;31m# examples.mean(axis=1).shape\u001b[0m\u001b[0;34m\u001b[0m\u001b[0;34m\u001b[0m\u001b[0;34m\u001b[0m\u001b[0m\n",
            "\u001b[0;31mNameError\u001b[0m: name 'examples' is not defined"
          ]
        }
      ]
    },
    {
      "cell_type": "code",
      "metadata": {
        "id": "k0M85wj3KM67",
        "colab_type": "code",
        "outputId": "66e931c8-5cfb-4e17-ef64-8e363a2136f6",
        "colab": {
          "base_uri": "https://localhost:8080/",
          "height": 34
        }
      },
      "source": [
        "examples[3].max()"
      ],
      "execution_count": 0,
      "outputs": [
        {
          "output_type": "execute_result",
          "data": {
            "text/plain": [
              "tensor(255.)"
            ]
          },
          "metadata": {
            "tags": []
          },
          "execution_count": 46
        }
      ]
    },
    {
      "cell_type": "code",
      "metadata": {
        "id": "vpHH_NFW5K0R",
        "colab_type": "code",
        "colab": {}
      },
      "source": [
        "                        meanImgs = comp_avg(examples).permute(0,2,3,1)\n",
        "                        # examples.mean(axis=1).permute(0,2,3,1)\n",
        "                        for i in digits: #range(10):\n",
        "                        #   u,v = i//5 , i%5\n",
        "                          u,v = mIdx,i\n",
        "                          a = meanImgs[i]\n",
        "                          a = (a - a.min()) / (a.max() - a.min())\n",
        "                          axarr[u,v].imshow(a, cmap='jet') \n",
        "                          axarr[u,v].set_xticks([])\n",
        "                          axarr[u,v].set_yticks([])\n",
        "                          if mIdx==0 and i==0:\n",
        "                                axarr[u,v].set_ylabel('backdoor')\n",
        "                          if mIdx==1 and i==0:\n",
        "                                axarr[u,v].set_ylabel('clean')\n",
        "\n",
        "\n",
        "                          successRatio = ((labels[i]==i).sum()/1.)  / len(labels[i])  # converting to 3!!!\n",
        "                          # successRatio = ((np.array(labels)==i).sum()/1.)  / len(labels)  # converting to 3!!!                          \n",
        "                          axarr[u,v].set_title(f'ratio pred {i} : {successRatio:4.2}') \n",
        "\n"
      ],
      "execution_count": 0,
      "outputs": []
    },
    {
      "cell_type": "code",
      "metadata": {
        "id": "Q2qv_GYkldpL",
        "colab_type": "code",
        "colab": {}
      },
      "source": [
        ""
      ],
      "execution_count": 0,
      "outputs": []
    },
    {
      "cell_type": "code",
      "metadata": {
        "id": "dWvbBB6W5hva",
        "colab_type": "code",
        "outputId": "41aba8ff-2696-42c7-934b-aaf96bf112f0",
        "colab": {
          "base_uri": "https://localhost:8080/",
          "height": 367
        }
      },
      "source": [
        "\n",
        "# dataX = np.load(save_path+'figs/'+'data-num_samples=10000-iterations=20-clampFlag=True-input_type=noise-eps=0.1-mIdx=backdoor.npz')                    \n",
        "# examples = dataX['examples']\n",
        "\n",
        "\n",
        "plt.style.use('default')\n",
        "f, axarr = plt.subplots(2, 10)\n",
        "f.set_figheight(5)\n",
        "f.set_figwidth(25)\n",
        "f.subplots_adjust(hspace=0.36) #, wspace=0.0, right = 0.8)\n",
        "mIdx = 0\n",
        "\n",
        "meanImgs = examples.mean(axis=1).permute(0,2,3,1)\n",
        "for i in digits: #range(10):\n",
        "#   u,v = i//5 , i%5\n",
        "  u,v = mIdx,i\n",
        "  a = meanImgs[i]\n",
        "  a = (a - a.min()) / (a.max() - a.min())\n",
        "  axarr[u,v].imshow(a, cmap='jet') \n",
        "  axarr[u,v].set_xticks([])\n",
        "  axarr[u,v].set_yticks([])\n",
        "  if mIdx==0 and i==0:\n",
        "        axarr[u,v].set_ylabel('backdoor')\n",
        "  if mIdx==1 and i==0:\n",
        "        axarr[u,v].set_ylabel('clean')\n",
        "\n",
        "\n",
        "  successRatio = ((labels[i]==3).sum()/1.)  / len(labels[i])  # converting to 3!!!\n",
        "  axarr[u,v].set_title(f'ratio pred {i} : {successRatio:4.2}') \n",
        "\n",
        "  # successRatio = ((labels[i]==i).sum()/1.)  / len(labels[i])\n",
        "  # axarr[u,v].set_title(f'ratio pred {i} : {successRatio:4.2}') \n",
        "\n"
      ],
      "execution_count": 0,
      "outputs": [
        {
          "output_type": "display_data",
          "data": {
            "image/png": "[encoded data removed]",
            "text/plain": [
              "<Figure size 2500x500 with 20 Axes>"
            ]
          },
          "metadata": {
            "tags": []
          }
        }
      ]
    },
    {
      "cell_type": "code",
      "metadata": {
        "id": "Ku5sJWbcwImm",
        "colab_type": "code",
        "outputId": "8bf2c927-9ea5-4a41-8dbd-74819d15e8a5",
        "colab": {
          "base_uri": "https://localhost:8080/",
          "height": 1000
        }
      },
      "source": [
        "!ls './drive/My Drive/'"
      ],
      "execution_count": 0,
      "outputs": [
        {
          "output_type": "stream",
          "text": [
            " 05dc.pdf\n",
            " 05divide-and-conquer.pdf\n",
            " 0613_Bringing_Semantics_Into_Focus_Using_Visual_Abstraction.pptx\n",
            "'100 004.jpg'\n",
            "'100 Python Interview Questions and Answers [Updated 2019].pdf'\n",
            " 10.1.1.219.2626.pdf\n",
            "'2014 - CVPR Tutorial on Deep Learning for Vision - Object Detection.gslides'\n",
            " 2014-rgi-budget.gsheet\n",
            "'2015-8-13-16 ICIG Visual Saliency Computation and Applications (1).gdoc'\n",
            "'2015-8-13-16 ICIG Visual Saliency Computation and Applications.gdoc'\n",
            " 201810151100.tif\n",
            " 2.gdoc\n",
            " 30181248210release.gdoc\n",
            "'4. Map, Filter and Reduce — Python Tips 0.1 documentation.pdf'\n",
            " 57421f4c3ef83b2ff84ec59b7c0020d1fbdfe0b6f698e5b38bbb2a6985bbdca1.jpg\n",
            "'%5BProposal2%5D ARO User Guided Video Summarization and Answering.zip'\n",
            "\"68803__Author's_Proof_Correction.pdf\"\n",
            " ab-cv-nsf-new.pages\n",
            " ActiveLearning\n",
            " AdobeGift\n",
            " AdvancedCVCourse\n",
            "'Advisor letter.gdoc'\n",
            "'Aim 3 -draft2.gdoc'\n",
            "'A Layman guide to moving from Keras to Pytorch.pdf'\n",
            " Ali@Bellagio.JPG\n",
            " Ali@TheMirage2.JPG\n",
            " Ali@TheMirage.JPG\n",
            " AliwithCaesarsBusts.JPG\n",
            "'A Machine Learning Environment with Ubuntu and GPU acceleration in 5 steps.pdf'\n",
            " Amar.gdoc\n",
            " Amazon\n",
            " AmolGPU.gdoc\n",
            " analysis.ipynb\n",
            "'A new spreadsheet.gsheet'\n",
            " AnnulaReports\n",
            " Answers_New.gsheet\n",
            " Answers_New.xlsx\n",
            " ArxiveUpload.gdoc\n",
            " AttentionHighlighting\n",
            " AutoEncoderProject\n",
            " AWS\n",
            " Aysun.docx.gdoc\n",
            "'Based on recent statistical surveys.docx'\n",
            "'Batch 3: Questions and Dilemmas.gdoc'\n",
            "'Bay Area Deep Learning School Presentation.gslides'\n",
            " behavior_experiment\n",
            "'Better than huamn performance.gdoc'\n",
            " BiasJournal.pdf\n",
            " BloombergGrant\n",
            " bok%3A978-3-319-05642-5.pdf\n",
            " Book1.gsheet\n",
            " BorjiAli3142014TaxDocs.pdf\n",
            " Borji-CPE-2018.zip\n",
            "'Borji Job Ad.docx'\n",
            "'Borji Job Ad.docx.gdoc'\n",
            "'Borji -Letter of Support.gdoc'\n",
            "'Borji ONR Budget Justification.gdoc'\n",
            " borjiTalk.pptx\n",
            " Borji-Tobin_SURF.gdoc\n",
            "'Borji...Tradewinds - General Release of Liability.docx'\n",
            "'Borji...Tradewinds - General Release of Liability.docx.gdoc'\n",
            "'Borji...Tradewinds - General Release of Liability.gdoc'\n",
            "'Brilliantly wrong (blog by Alex Rogozhnikov).pdf'\n",
            "'Building Cython code — Cython 3.0a0 documentation.pdf'\n",
            " BU.pdf\n",
            "'calculation systems.gdoc'\n",
            "'CandidateExpenseReportBlank (1) (1) (1).gsheet'\n",
            "'CandidateExpenseReportBlank (1) (1) (1).xlsx'\n",
            " CAP4453\n",
            " CAP5610_Project_proposal.pdf\n",
            " CAP6411\n",
            " CAP6412\n",
            "'Captioning and VQA.gdoc'\n",
            " cat2000.gsheet\n",
            " CatExp\n",
            " CATSS.gdoc\n",
            "'CfP mail.gdoc'\n",
            " ChallengesICCVWorkshop.gdoc\n",
            " chores.gsheet\n",
            " classification_images\n",
            " ClassificationImages\n",
            " Classification_images_results.gdoc\n",
            "'Cloud Print test page.pdf'\n",
            " Clustering\n",
            " Clustering.gdoc\n",
            " Colab\n",
            " ColabNotebooks\n",
            "'Comparison of Data Efficiency in Dynamic Routing for Capsule Networks.pdf'\n",
            " ComputerHumanVision.gdoc\n",
            "'Computer Vision Topics.gsheet'\n",
            "'Copy of CS Hrly TA calculating_Rev1.xlsm'\n",
            "'Copy of CVPR2018-MBCC.gdoc'\n",
            "'Copy of cvpr.gdoc'\n",
            "'Copy of Deep Learning Syllabus and Schedule.gdoc'\n",
            "'Copy of Machine Learning, Fall 2017.gdoc'\n",
            "'Copy of NegativeResultsV3.gdoc'\n",
            "'Copy of NegativeResultsV4.gdoc'\n",
            "'Copy of NIPSDiagram.gslides'\n",
            "'Copy of [Nov 2018] ML Paper Summary Month.gdoc'\n",
            "'Copy of NSFPAC.gdoc'\n",
            "'Copy of ProposalDraft6_Samira.gdoc'\n",
            "'Copy of There are some errors in object detection.gdoc'\n",
            " Core3D.gdoc\n",
            "'correlation and regression.key'\n",
            " COSMO.gdoc\n",
            " CourtesyLtr_ForSignature.gdoc\n",
            "'CPTFP dossier.gdoc'\n",
            "'Cracking the ML interview.gdoc'\n",
            "'CS143visionexamquiz12013draft (1).gdoc'\n",
            "'CS143visionexamquiz12013draft (2).gdoc'\n",
            " CS143visionexamquiz12013draft.gdoc\n",
            "'CS143visionexamquiz12013key (1).gdoc'\n",
            " CS143visionexamquiz12013key.gdoc\n",
            "'CS143visionexamquiz22013 (1).gdoc'\n",
            "'CS143visionexamquiz22013 (2).gdoc'\n",
            "'CS143visionexamquiz22013 (3).gdoc'\n",
            " CS143visionexamquiz22013.gdoc\n",
            " CS390MB-Chapters\n",
            "'CS Biomedical course meetings schedule.gdoc'\n",
            " CS-OPC-math-electives.pdf\n",
            " cv_borji.pdf\n",
            " CV-Borji.pdf\n",
            " CVIU-GAN-revision.gdoc\n",
            " cvpr14.pdf\n",
            "'CVPR 16 Rebuttal.gdoc'\n",
            "'CVPR 2012: One Author'\\''s Withdrawal Statement (Recovered).gdoc'\n",
            " CVPR2016\n",
            " CVPR2018-HumanVisionTutorial.gdoc\n",
            " CVPR2018-MBCC.gdoc\n",
            " cvpr.gdoc\n",
            " CVPR-Rebu2.gdoc\n",
            "'CVPR Slides'\n",
            " CVPR-talk.pdf\n",
            " DARPA-GCA.gdoc\n",
            " DARPA-W56KGU-17-R-MC17.gdoc\n",
            " DARPA-YFA-schedule.gsheet\n",
            " DARPAYIP\n",
            "'Data manipulation with numpy: tips and tricks, part 1.pdf'\n",
            "'Data manipulation with numpy: tips and tricks, part 2.pdf'\n",
            " data.rar\n",
            " DB_new_material.gdoc\n",
            " DearColleagueLetter-1pager.gdoc\n",
            "'Dear CVPR chairs.docx'\n",
            " DeepLearningResearch.gdoc\n",
            " DemocInn.pdf\n",
            " Deny.doc\n",
            "'Department Acceptance-Rejection Form for Bid K16-005-M.gdoc'\n",
            "'Deploying a Machine Learning Model as a REST API - Towards Data Science.pdf'\n",
            " desktop.odt.gdoc\n",
            "'Direct Deposit Form (1).gsheet'\n",
            "'Direct Deposit Form.gsheet'\n",
            "'Direct Deposit Form.xlsx'\n",
            "'Discussed Ideas.gdoc'\n",
            " DIVA\n",
            " DIVA.gdoc\n",
            " DLInterpretability2.gdoc\n",
            " DLInterpretability3.gdoc\n",
            " DLInterpretability4.gdoc\n",
            " DLInterpretability5.gdoc\n",
            " DLInterpretability6.gdoc\n",
            " DLInterpretability7.gdoc\n",
            " DLInterpretability.gdoc\n",
            " DL-research_questions.gdoc\n",
            " DLtricks.gdoc\n",
            " DNN-Diagnose.gdoc\n",
            " Docs\n",
            "'Doctoral Milestones.ppt'\n",
            " draft_eccv.gdoc\n",
            " Drone\n",
            "'DS-2019 Scholar Request Form 07-24-15.pdf'\n",
            " DTFormA2014-15.gdoc\n",
            " duripBudgetJustification.gdoc\n",
            " DURIP-Final.pdf\n",
            " DURIP-June14WithComments.pdf\n",
            " DURIP_proposal_BG.gdoc\n",
            " DURIPSupplment.gdoc\n",
            "'E911- Feb 18.gdoc'\n",
            "'E911- Feb 28.gdoc'\n",
            "'ECCV 18 Logo Rebuttal.gdoc'\n",
            "'eccv revs.gdoc'\n",
            " Egocentric\n",
            " Ego-centric\n",
            " EgocentricRISmall\n",
            " EgoCentricSnapPoints.pdf\n",
            " EgoCentricSurveilence\n",
            " EgoDataset.pdf\n",
            " EnvironmentalFormality.gdoc\n",
            "'Expedia Candidate Expense Reimbursement Form.gsheet'\n",
            "'Expedia Candidate Expense Reimbursement Form.xls'\n",
            " Expeditions\n",
            " ExpertisePrediction\n",
            "'Eye movements: Synopsis.gdoc'\n",
            " FDOT\n",
            " Files.zip\n",
            " Final_files_supp.zip\n",
            " FinalMLFall2015Solutions.gdoc\n",
            " Final.pdf\n",
            "'Final Project Part 2 (1).docx.gdoc'\n",
            "'Final Project Part 2 (2).docx.gdoc'\n",
            "'Final Project Part 2.docx'\n",
            "'Final Project Part 2.docx.gdoc'\n",
            "'Final Project Part 2.gdoc'\n",
            " fMRI\n",
            " future_saliency_tutorial_application.gdoc\n",
            " GameSim\n",
            " GAN-evaluation.gdoc\n",
            "'gaze direction paper: Repository.gdoc'\n",
            " glassPrescription.jpg\n",
            " GoogleFacultyAward\n",
            " GoogleInterview.gdoc\n",
            "'google password.gdoc'\n",
            "'Google Photos'\n",
            "'Gradient Boosting explained [demonstration].pdf'\n",
            "'Gradient Boosting Interactive Playground.pdf'\n",
            " GrantDocs\n",
            " GravityinCV\n",
            " groupmeeting.tar.gz\n",
            " HaroonProject\n",
            "'HCL PICTURE ID REQUEST FORM.docx'\n",
            "'HCL PICTURE ID REQUEST FORM.gdoc'\n",
            " HCLReport\n",
            " HCL_report2.gdoc\n",
            " histogramCountsZhaoBoundingBoxes.fig\n",
            " Huwawei.gdoc\n",
            "'H View.jpg'\n",
            " I-140.Cover.Letter.docx\n",
            " I-140.Cover.Letter.gdoc\n",
            " I-140.pdf\n",
            "'IEEE Xplore Full-Text PDF:.pdf'\n",
            " ijcv_res.gsheet\n",
            "'IJCV Review.gdoc'\n",
            " iLab20M\n",
            " ilab-weekly-tasks-2012.gsheet\n",
            " ImagesElham\n",
            " ImageSpiritTOG.pdf\n",
            " ImagreCompressionSaliency.pdf\n",
            " IMG-0124.JPG\n",
            " ImgNet.gdoc\n",
            " InHouse\n",
            " Insurance_IDCARD.pdf\n",
            "'Invitation Lette.gdoc'\n",
            "'iPhone notes.gdoc'\n",
            "'IPM LETTER.gdoc'\n",
            " ISACS-Borji.pptx\n",
            "'J-1 Visa.pdf'\n",
            " JasmineWang\n",
            " JobApps\n",
            " jobTalk.gdoc\n",
            " Journal_Version_of_GazeGAN.pdf\n",
            " JOV\n",
            " JovResponseJune2016.gdoc\n",
            " JSTSP-submission.gsheet\n",
            " JSTSP-submission.xlsx\n",
            " KimiaTajikChats\n",
            "'Lab Design or Renovation Plans Interview_Review - Revised 5-2014 (1).gdoc'\n",
            "'Laurent Itti - LOS.docx'\n",
            "'Laurent Itti - LOS.gdoc'\n",
            " lec3.pdf\n",
            " lec6.pdf\n",
            " Lecture-Schedule-Graph-16S.xlsx\n",
            " Lecture-Schedule-Graph-16S.xlsx.gsheet\n",
            "'Lecture- SVM.pdf'\n",
            "'Letter of Dr. Ali Borji (1).gdoc'\n",
            "'Letter of Dr. Ali Borji (2).gdoc'\n",
            "'Letter of Dr. Ali Borji.docx'\n",
            " LetterofDr.AliBorji.docx\n",
            "'Letter of Dr. Ali Borji.docx.gdoc'\n",
            " LetterofDr.AliBorji.docx.gdoc\n",
            "'Letter of Dr. Ali Borji.gdoc'\n",
            " letter-porb.gdoc\n",
            " LifeInAmerica.gdoc\n",
            "' Limited-Submission-Grant-Borji.gdoc'\n",
            " Linux.gdoc\n",
            " LogistReg\n",
            " Louisville.gdoc\n",
            " LSTM\n",
            "'Machine Learning in Science and Industry slides.pdf'\n",
            "'Mac tricks.gdoc'\n",
            " Main.pdf\n",
            " manuscript_11_30_2018.gdoc\n",
            " manuscript_12_1_2018+changes.gdoc\n",
            " manuscript_12_1_2018.gdoc\n",
            "'Manuscript_8-13-2019 (1).gdoc'\n",
            " Manuscript_8-13-2019.docx\n",
            " Manuscript_8-13-2019.gdoc\n",
            " Manuscript_8-16-2019.gdoc\n",
            " manuscript.gdoc\n",
            "'Manuscript Submission Statement Form of Frontiers of Computer Science.gdoc'\n",
            "'Marc Pomplun - LOS.docx'\n",
            "'Marc Pomplun - LOS.gdoc'\n",
            "'MARKABLE: Competition Benchmark (1).gslides'\n",
            "'MARKABLE: Competition Benchmark.gslides'\n",
            " markable-configs\n",
            " Mayo\n",
            "'mbcc2018w — Attachments from Classic Sites'\n",
            "'mbcc2018w — Converted from Classic Sites.gsite'\n",
            " mbcc2018w.gsite\n",
            " memSal_old.pdf\n",
            " merged_file.json\n",
            "'Michael C. Mozer - LOS.docx'\n",
            "'Michael C. Mozer - LOS.gdoc'\n",
            " MILADL\n",
            " MLCourse\n",
            " MLSyllabus.gdoc\n",
            " MNIST\n",
            " MNIST_DCGAN\n",
            " MNIST_DCGAN_results\n",
            " MNIST_pretrained_model\n",
            " MOSAIC\n",
            " mosaic-proposal-v1.gdoc\n",
            " movies\n",
            " MURI_FY10_no24_proposal_final.pdf\n",
            " myCVPR.gslides\n",
            " myResearch\n",
            " mySlack.gdoc\n",
            " myVss.gslides\n",
            " NegativeResults.gdoc\n",
            " NegativeResultsV2.gdoc\n",
            " NegativeResultsV3.gdoc\n",
            " NegativeResultsV4.gdoc\n",
            " NeuroBasic.gdoc\n",
            " NeuroscienceExhibition.gdoc\n",
            "'New English Language Requirements for DS-2019 Applicants.pdf'\n",
            " newPAM\n",
            " newPAMIpaper.gdoc\n",
            " NIPSDiagram.gslides\n",
            " Novin.docx.gdoc\n",
            " NSFCareer\n",
            "'NSFCareer (1)'\n",
            " NSFPAC\n",
            " NSFPAC-New.gdoc\n",
            " NSFPAC-New-II.gdoc\n",
            " NSFPAC-New-July27.gdoc\n",
            " NSFProposal.gdoc\n",
            " numpyE\n",
            "'NVIDIA GPU Research Proposal.gdoc'\n",
            " ObjectCenterBias.pdf\n",
            " ObjImportance\n",
            "'Online Courses.gdoc'\n",
            "'On modeling attention From Hayhoe.gdoc'\n",
            "'ONR_YFA_2 (1).gdoc'\n",
            " ONR_YFA_2.gdoc\n",
            " ONR_YFA_3.gdoc\n",
            " ONR_YFA.gdoc\n",
            " ONR-YIP\n",
            " optimalNeural.gdoc\n",
            " OralQuals-PartB.pdf\n",
            " oxfordhb-9780199675111-e-038.pdf\n",
            " PAC\n",
            "'(pami18)response_v4 (1).gdoc'\n",
            "'(pami18)response_v4 (2).gdoc'\n",
            "'(pami18)response_v4 (3).gdoc'\n",
            "'(pami18)response_v4.gdoc'\n",
            " PAMI_revision.gdoc\n",
            "'Panagiotis Tsiotras.docx'\n",
            "'Panagiotis Tsiotras.gdoc'\n",
            "'Paper 2054.pdf'\n",
            " paper_download.jpg\n",
            " paper_list.pages\n",
            " paperNew.tex\n",
            " paper.pdf\n",
            " Paper.rar\n",
            " papersCitingMe.zip\n",
            " pdf.pdf\n",
            " Petmei\n",
            " PETMEI-Borji.pdf\n",
            " PETMEI.gdoc\n",
            " photo.JPG\n",
            " pick_100.tar.gz\n",
            "'Pointers in Python: What'\\''s the Point? – Real Python.pdf'\n",
            " presentations\n",
            " privacyPreserving.zip\n",
            " ProfessionPrediction\n",
            " program_committee_invite.docx\n",
            " program_committee_invite.docx.gdoc\n",
            "'Project with Ali'\n",
            " Proposal_1.gdoc\n",
            " ProposalDraft5.docx\n",
            " ProposalDraft5.docx.gdoc\n",
            " proposal.pdf\n",
            " Pupil-Siagian.gdoc\n",
            "'python - How do I list all files of a directory? - Stack Overflow.pdf'\n",
            "'Python : How to copy files from one location to another using shutil.copy() – thispointer.com.pdf'\n",
            "'Python Interview Questions and Answers for 2019 - Intellipaat.pdf'\n",
            " pythonLessons\n",
            " PythonNotesForProfessionals.pdf\n",
            "'Python Programming Language - GeeksforGeeks.pdf'\n",
            "'python - Return None if Dictionary key is not available - Stack Overflow.pdf'\n",
            "'Python Tips.pdf'\n",
            "'PythonTips&Tricks.gdoc'\n",
            "'Python tricks.gdoc'\n",
            " pythonTutorial\n",
            "'QUESTIONNAIRE (1).gsheet'\n",
            " QUESTIONNAIRE.gsheet\n",
            " Quiz1.gdoc\n",
            " Quiz1.odt\n",
            " Quiz2.gdoc\n",
            " R3_1-27-2020.gdoc\n",
            "'Reading and Writing Files in Python.pdf'\n",
            " rebuttal_AAAI.docx\n",
            " rebuttal_AAAI.docx.gdoc\n",
            " rebuttal.gdoc\n",
            "'Recommendation Letter Draft Dr. Borji.gdoc'\n",
            "'Reconstructing pictures with machine learning [demonstration].pdf'\n",
            " References.gdoc\n",
            " Ref-letterGreg.gdoc\n",
            " Reimbursement\n",
            "'Report on CNN-Att-Lstm-model_Sajad (1).gdoc'\n",
            "'Report on CNN-Att-Lstm-model_Sajad.gdoc'\n",
            " report_stuff\n",
            " RepresentativeLearning.gdoc\n",
            "'Research at CRCV.gdoc'\n",
            "'Research Topics project (1).docx.gdoc'\n",
            "'Research Topics project.docx'\n",
            "'Research Topics project.docx.gdoc'\n",
            " ResignationLetter.gdoc\n",
            "'Result Comparison 6 6 2016.gdoc'\n",
            " Res-x.eps\n",
            " REU\n",
            "'REU Program - Video Summarization (1).gdoc'\n",
            "'REU Program - Video Summarization.gdoc'\n",
            "'Revision Report_third_round.gdoc'\n",
            " RGI-2.gdoc\n",
            " RI-Small\n",
            "'RL_dep_Borji_Ardeshir Behrostaghi_20133.gdoc'\n",
            " RL_ind_Borji_ZAKER_6555_v1.gdoc\n",
            " RobotVisionExam.gdoc\n",
            " RobotVisionExamSolutions.gdoc\n",
            " RobotVisionSampleExam.gdoc\n",
            " RobotVisionSampleExample.gdoc\n",
            "'RPubs - 111 Data Science Interview Questions with Detailed Answers.pdf'\n",
            " RSNew3.pdf\n",
            " RS.pdf\n",
            " SA_19_April_2017.gdoc\n",
            " Salicon_scores.gsheet\n",
            " Saliency\n",
            " SaliencyBenchmark_CAT2000\n",
            "'Saliency Benchmark Research Plan.gdoc'\n",
            " salObjectTIP.pdf\n",
            " samples\n",
            " sampleUs.pdf\n",
            " SAPProposal.gdoc\n",
            " SaraRefLetter.gdoc\n",
            " Search2014.gdoc\n",
            " Seedlings\n",
            " Segmentation.gdoc\n",
            "'Setting Up Sublime Text 3 for Full Stack Python Development – Real Python.pdf'\n",
            " Shaw-Proposal-Borji.gdoc\n",
            "'SHEDULE OF STAY.gdoc'\n",
            " Short_Medium_Tall\n",
            "'SigView - Consent  Release Form.doc'\n",
            "'Simone Frintrop - LOS.docx'\n",
            "'Simone Frintrop - LOS.gdoc'\n",
            " sisu-takehome.ipynb\n",
            " SkySegmentation.pdf\n",
            "'slack!.gdoc'\n",
            " Slides\n",
            " slideslive-recorder_20200407T164346.795Z_display.webm\n",
            " slideslive-recorder_20200407T164346.795Z_user.webm\n",
            "'SMI Glass.gdoc'\n",
            "'SMI Glass II.gdoc'\n",
            " SMI-Proposal.gdoc\n",
            "'Solving abstract problems using CNNs.gdoc'\n",
            "'solving mounting a Mac HDD on Ubuntu.gdoc'\n",
            " SONY-innovation.gdoc\n",
            " SONy_MOSIAC.gdoc\n",
            "'Special Issue on Saliency Models Applications and Evaluations V1.docx'\n",
            " SPIC-Editorial.gdoc\n",
            " Spokes.gdoc\n",
            "'Spring 2016 Draft CompSci.xlsx'\n",
            "'Spring 2016 Draft CompSci.xlsx.gsheet'\n",
            " SPSU.gdoc\n",
            "'statemets&pdfs'\n",
            " StephanieProject\n",
            "'Student Interview Shortlist.gsheet'\n",
            " Students\n",
            "'StyleGAN Face Morphing - Arxiv Insights'\n",
            " Summary.gdoc\n",
            " supplement.pdf\n",
            "'SURE poster.pptx'\n",
            " SURF_2013.gdoc\n",
            " SVM_example2.R\n",
            " SVM_example3.R\n",
            " SVM_example4.R\n",
            " SVM_example5.R\n",
            " SVM_example.R\n",
            "'Synthetic datasets.gdoc'\n",
            "'Talk at ISACS.gdoc'\n",
            " Talk.gdoc\n",
            " Talks\n",
            " task-4.3-appendix.gdoc\n",
            " task-4.3-appendix.pdf\n",
            " temple.gdoc\n",
            " Tenure\n",
            " Test.gsite\n",
            " text_gen.gdoc\n",
            " TheConfluenceHumanMachineVision.gdoc\n",
            "'There are some errors in object detection (1).gdoc'\n",
            "'There are some errors in object detection.gdoc'\n",
            "'There are some errors in object detection.pdf'\n",
            " Tip_response.gdoc\n",
            " TIP-Rev.gdoc\n",
            " TIP-Rev-Last.gdoc\n",
            " TIPS_revision\n",
            " Title.gdoc\n",
            " Tmp\n",
            " tmpSlide.gslides\n",
            " TNNLS-Rev.gdoc\n",
            " TNNLSRev.gdoc\n",
            "'Top 100 Python Interview Questions and Answers | ProBytes.pdf'\n",
            "'TOP 250+ Python Interview Questions and Answers 19.06.2019 - Python Interview Questions | Wisdom Jobs India.pdf'\n",
            " TPAMI2815688.pdf\n",
            " TPAMI-Rev.gdoc\n",
            " Troy.gdoc\n",
            " TS.pdf\n",
            "'Tutorial (1).pdf'\n",
            " UCF\n",
            "'UIC letter.gdoc'\n",
            "'UI Concept: Training Data Validation Mobile Tap App.gdraw'\n",
            " Ulas.gdoc\n",
            " Unification.gdoc\n",
            " UNR.gdoc\n",
            "'Unsupervised Deep Learning.gdoc'\n",
            "'Untitled document (10).gdoc'\n",
            "'Untitled document (11).gdoc'\n",
            "'Untitled document (12).gdoc'\n",
            "'Untitled document (1).gdoc'\n",
            "'Untitled document (2).gdoc'\n",
            "'Untitled document (3).gdoc'\n",
            "'Untitled document (4).gdoc'\n",
            "'Untitled document (5).gdoc'\n",
            "'Untitled document (6).gdoc'\n",
            "'Untitled document (7).gdoc'\n",
            "'Untitled document (8).gdoc'\n",
            "'Untitled document (9).gdoc'\n",
            "'Untitled document.gdoc'\n",
            "'Untitled drawing.gdraw'\n",
            " Untitled.gmap\n",
            "'Untitled presentation.gslides'\n",
            "'Untitled Site.gsite'\n",
            "'Untitled spreadsheet (1).gsheet'\n",
            "'Untitled spreadsheet (2).gsheet'\n",
            "'Untitled spreadsheet (3).gsheet'\n",
            "'Untitled spreadsheet (4).gsheet'\n",
            "'Untitled spreadsheet.gsheet'\n",
            "'Updated Travel Booking Request Form.xlsx'\n",
            " UpperBoundAP\n",
            "'Urban dictionary.gdoc'\n",
            "'UWM Course'\n",
            " UWM-equipment.gdoc\n",
            " UWM.gdoc\n",
            "'UWM Vision Course.gdoc'\n",
            " Valence2013.pdf\n",
            " VanishingPointResults\n",
            " VideoSummarizationSandesh.gdoc\n",
            " vision_resources.gdoc\n",
            "'Visual Search and Foraging'\n",
            "'Voleon NDA -- Individual NEW STACY SIg Block.pdf'\n",
            " VPcover.gdoc\n",
            "'Where We See Shapes, AI Sees Textures | Quanta Magazine.pdf'\n",
            "'Writing a Google AI Residency Cover Letter.pdf'\n",
            "'Yandex School of Data Analysis.pdf'\n",
            " Yarbus.zip\n",
            " you_at_the_beach_with_me.JPG\n",
            "'Zhaohui Projects: Deep Saliency Model Robustness.gdoc'\n",
            " zhaoNSS-xeps.eps\n"
          ],
          "name": "stdout"
        }
      ]
    },
    {
      "cell_type": "code",
      "metadata": {
        "id": "UbNJVEmj6Hp_",
        "colab_type": "code",
        "outputId": "a9d969b8-b66e-44b4-8059-4d51f31d3c3a",
        "colab": {
          "base_uri": "https://localhost:8080/",
          "height": 204
        }
      },
      "source": [
        "meanImgs[i].shape\n",
        "a[:3,:3]\n",
        "# plt.imshow(a, cmap='jet') "
      ],
      "execution_count": 0,
      "outputs": [
        {
          "output_type": "execute_result",
          "data": {
            "text/plain": [
              "tensor([[[0.0000, 0.0000, 0.0000],\n",
              "         [0.2146, 0.2146, 0.2146],\n",
              "         [0.2357, 0.2357, 0.2357]],\n",
              "\n",
              "        [[0.3936, 0.3936, 0.3936],\n",
              "         [0.3627, 0.3627, 0.3627],\n",
              "         [0.3794, 0.3794, 0.3794]],\n",
              "\n",
              "        [[0.4525, 0.4525, 0.4525],\n",
              "         [0.4705, 0.4705, 0.4705],\n",
              "         [0.4864, 0.4864, 0.4864]]])"
            ]
          },
          "metadata": {
            "tags": []
          },
          "execution_count": 260
        }
      ]
    },
    {
      "cell_type": "code",
      "metadata": {
        "id": "b5KAuKqiHceU",
        "colab_type": "code",
        "colab": {}
      },
      "source": [
        "# compute the average L2 norm over avgs\n",
        "dists = [ [] for i in range(10) ]\n",
        "\n",
        "# num_samples_list = [100]\n",
        "# iterations_list = [10]\n",
        "# eps_list = [.1,.5,.9]\n",
        "input_type_list = ['data']\n",
        "\n",
        "for num_samples in num_samples_list:\n",
        "    for iterations in iterations_list:\n",
        "        for clampFlag in [True]:\n",
        "            for input_type in input_type_list:\n",
        "                for eps in eps_list:\n",
        "                    data0 = np.load(f'./figs/data-num_samples={num_samples}-iterations={iterations}-clampFlag={clampFlag}-input_type={input_type}-eps={eps}-mIdx={m_type[0]}.npz')\n",
        "                    data1 = np.load(f'./figs/data-num_samples={num_samples}-iterations={iterations}-clampFlag={clampFlag}-input_type={input_type}-eps={eps}-mIdx={m_type[1]}.npz')                    \n",
        "                    \n",
        "                    meanImgs0 = data0['examples'].mean(axis=1) \n",
        "                    meanImgs1 = data1['examples'].mean(axis=1)                     \n",
        "                    for i in digits: #range(10):\n",
        "                        diff = torch.from_numpy(meanImgs0[i] - meanImgs1[i])#.view(1,-1)\n",
        "                        dists[i].append(torch.norm(diff, p=2).item()) #float('inf')))        \n",
        "                        \n",
        "\n",
        "                        \n",
        "\n",
        "# plt.style.use('ggplot')\n",
        "            \n",
        "# xx = numpy.array(dists)\n",
        "# for i in range(xx.shape[1]): \n",
        "#     plt.plot(xx[:,i])\n",
        "    \n",
        "# plt.plot(xx.mean(axis=1), linewidth=6)\n",
        "# # dis = []\n",
        "# # for i in digits: #range(10):\n",
        "# #     dis.append(torch.norm(mean_maps[0][i] - mean_maps[1][i], p=2)) #float('inf')))\n",
        "# # #     torch.norm(c, p=1, dim=1)\n",
        "# # plt.plot(dis)\n",
        "# # plt.show()"
      ],
      "execution_count": 0,
      "outputs": []
    },
    {
      "cell_type": "code",
      "metadata": {
        "id": "LItw0dCNHceW",
        "colab_type": "code",
        "colab": {}
      },
      "source": [
        ""
      ],
      "execution_count": 0,
      "outputs": []
    },
    {
      "cell_type": "code",
      "metadata": {
        "id": "nnrefMo1Hced",
        "colab_type": "code",
        "outputId": "398227dc-540b-4906-f439-f1aa3cd4b84e",
        "colab": {}
      },
      "source": [
        "plt.style.use('ggplot')\n",
        "plt.figure(figsize=(5,7))\n",
        "symbs = ['d-', 'o-', 's-', 'd--', 'o--', 's--', 'd-', '+-', 'x-', '^-', '<-']\n",
        "    \n",
        "    \n",
        "xx = numpy.array(dists)\n",
        "for i in range(xx.shape[1]): \n",
        "    plt.plot(xx[:,i],symbs[i])\n",
        "    \n",
        "plt.plot(xx.mean(axis=1), linewidth=6)\n",
        "plt.xticks(np.arange(10))\n",
        "plt.ylabel('Euclidean distance')\n",
        "# plt.legend(['iter=1, eps=.1', 'iter=1, eps=.5', 'iter=1, eps=.9', 'iter=10, eps=.1', 'iter=10, eps=.5', 'iter=10, eps=.9', 'Average'], loc='upper left')\n",
        "plt.legend(['iter=1000, eps=.1', 'iter=1000, eps=.5', 'iter=1000, eps=.9',  'Average'], loc='upper left')\n",
        "\n",
        "plt.ylim([1,4])\n",
        "# plt.title('White Noise')\n",
        "plt.title('Image Data')\n",
        "plt.show()                        \n",
        "# dis = []\n",
        "# for i in digits: #range(10):\n",
        "#     dis.append(torch.norm(mean_maps[0][i] - mean_maps[1][i], p=2)) #float('inf')))\n",
        "# #     torch.norm(c, p=1, dim=1)\n",
        "# plt.plot(dis)\n",
        "# plt.show()"
      ],
      "execution_count": 0,
      "outputs": [
        {
          "output_type": "display_data",
          "data": {
            "image/png": "[encoded data removed]",
            "text/plain": [
              "<Figure size 500x700 with 1 Axes>"
            ]
          },
          "metadata": {
            "tags": []
          }
        }
      ]
    },
    {
      "cell_type": "code",
      "metadata": {
        "id": "_1gusuyvHcef",
        "colab_type": "code",
        "outputId": "55893cd2-f4c8-4578-e585-fe6360dedb7f",
        "colab": {}
      },
      "source": [
        "# plt.imshow(blankImg[0,0].detach().numpy())\n",
        "plt.style.use('default')\n",
        "plt.figure(figsize=(2,2))\n",
        "plt.imshow(data0['examples'][9,0])\n",
        "plt.show()\n",
        "plt.imshow(data1['examples'][9,0])\n",
        "plt.show()\n",
        "plt.xticks([])\n",
        "plt.yticks([])\n",
        "\n",
        "# examples[4]\n",
        "\n",
        "\n"
      ],
      "execution_count": 0,
      "outputs": [
        {
          "output_type": "display_data",
          "data": {
            "image/png": "[encoded data removed]",
            "text/plain": [
              "<Figure size 200x200 with 1 Axes>"
            ]
          },
          "metadata": {
            "tags": []
          }
        },
        {
          "output_type": "display_data",
          "data": {
            "image/png": "[encoded data removed]",
            "text/plain": [
              "<Figure size 640x480 with 1 Axes>"
            ]
          },
          "metadata": {
            "tags": []
          }
        },
        {
          "output_type": "execute_result",
          "data": {
            "text/plain": [
              "([], <a list of 0 Text major ticklabel objects>)"
            ]
          },
          "metadata": {
            "tags": []
          },
          "execution_count": 1130
        },
        {
          "output_type": "display_data",
          "data": {
            "image/png": "[encoded data removed]",
            "text/plain": [
              "<Figure size 640x480 with 1 Axes>"
            ]
          },
          "metadata": {
            "tags": []
          }
        }
      ]
    },
    {
      "cell_type": "code",
      "metadata": {
        "id": "TppQgQfMHceh",
        "colab_type": "code",
        "outputId": "cd096aa3-604d-434d-bbca-5081437f2b02",
        "colab": {}
      },
      "source": [
        "plt.imshow(data0['examples'][0,0])\n",
        "data0['examples'].shape\n",
        "meanImgs1.shape"
      ],
      "execution_count": 0,
      "outputs": [
        {
          "output_type": "execute_result",
          "data": {
            "text/plain": [
              "(10, 28, 28)"
            ]
          },
          "metadata": {
            "tags": []
          },
          "execution_count": 1131
        },
        {
          "output_type": "display_data",
          "data": {
            "image/png": "[encoded data removed]",
            "text/plain": [
              "<Figure size 640x480 with 1 Axes>"
            ]
          },
          "metadata": {
            "tags": []
          }
        }
      ]
    },
    {
      "cell_type": "code",
      "metadata": {
        "id": "dEj_l3vwHcek",
        "colab_type": "code",
        "outputId": "f87cee39-18b2-402d-8d23-5b469f7e7554",
        "colab": {}
      },
      "source": [
        "meanImg = examples.mean(axis=0)\n",
        "plt.imshow(meanImg)\n",
        "# plt.title(labels)\n",
        "plt.show()\n",
        "plt.hist(labels,bins=10)\n",
        "plt.xticks(np.arange(10))\n",
        "plt.show()"
      ],
      "execution_count": 0,
      "outputs": [
        {
          "output_type": "error",
          "ename": "TypeError",
          "evalue": "Invalid shape (1, 28, 28) for image data",
          "traceback": [
            "\u001b[0;31m---------------------------------------------------------------------------\u001b[0m",
            "\u001b[0;31mTypeError\u001b[0m                                 Traceback (most recent call last)",
            "\u001b[0;32m<ipython-input-1132-e482298f0cf7>\u001b[0m in \u001b[0;36m<module>\u001b[0;34m\u001b[0m\n\u001b[1;32m      1\u001b[0m \u001b[0mmeanImg\u001b[0m \u001b[0;34m=\u001b[0m \u001b[0mexamples\u001b[0m\u001b[0;34m.\u001b[0m\u001b[0mmean\u001b[0m\u001b[0;34m(\u001b[0m\u001b[0maxis\u001b[0m\u001b[0;34m=\u001b[0m\u001b[0;36m0\u001b[0m\u001b[0;34m)\u001b[0m\u001b[0;34m\u001b[0m\u001b[0;34m\u001b[0m\u001b[0m\n\u001b[0;32m----> 2\u001b[0;31m \u001b[0mplt\u001b[0m\u001b[0;34m.\u001b[0m\u001b[0mimshow\u001b[0m\u001b[0;34m(\u001b[0m\u001b[0mmeanImg\u001b[0m\u001b[0;34m)\u001b[0m\u001b[0;34m\u001b[0m\u001b[0;34m\u001b[0m\u001b[0m\n\u001b[0m\u001b[1;32m      3\u001b[0m \u001b[0;31m# plt.title(labels)\u001b[0m\u001b[0;34m\u001b[0m\u001b[0;34m\u001b[0m\u001b[0;34m\u001b[0m\u001b[0m\n\u001b[1;32m      4\u001b[0m \u001b[0mplt\u001b[0m\u001b[0;34m.\u001b[0m\u001b[0mshow\u001b[0m\u001b[0;34m(\u001b[0m\u001b[0;34m)\u001b[0m\u001b[0;34m\u001b[0m\u001b[0;34m\u001b[0m\u001b[0m\n\u001b[1;32m      5\u001b[0m \u001b[0mplt\u001b[0m\u001b[0;34m.\u001b[0m\u001b[0mhist\u001b[0m\u001b[0;34m(\u001b[0m\u001b[0mlabels\u001b[0m\u001b[0;34m,\u001b[0m\u001b[0mbins\u001b[0m\u001b[0;34m=\u001b[0m\u001b[0;36m10\u001b[0m\u001b[0;34m)\u001b[0m\u001b[0;34m\u001b[0m\u001b[0;34m\u001b[0m\u001b[0m\n",
            "\u001b[0;32m~/miniconda3/envs/objNet/lib/python3.7/site-packages/matplotlib/pyplot.py\u001b[0m in \u001b[0;36mimshow\u001b[0;34m(X, cmap, norm, aspect, interpolation, alpha, vmin, vmax, origin, extent, shape, filternorm, filterrad, imlim, resample, url, data, **kwargs)\u001b[0m\n\u001b[1;32m   2649\u001b[0m         \u001b[0mfilternorm\u001b[0m\u001b[0;34m=\u001b[0m\u001b[0mfilternorm\u001b[0m\u001b[0;34m,\u001b[0m \u001b[0mfilterrad\u001b[0m\u001b[0;34m=\u001b[0m\u001b[0mfilterrad\u001b[0m\u001b[0;34m,\u001b[0m \u001b[0mimlim\u001b[0m\u001b[0;34m=\u001b[0m\u001b[0mimlim\u001b[0m\u001b[0;34m,\u001b[0m\u001b[0;34m\u001b[0m\u001b[0;34m\u001b[0m\u001b[0m\n\u001b[1;32m   2650\u001b[0m         resample=resample, url=url, **({\"data\": data} if data is not\n\u001b[0;32m-> 2651\u001b[0;31m         None else {}), **kwargs)\n\u001b[0m\u001b[1;32m   2652\u001b[0m     \u001b[0msci\u001b[0m\u001b[0;34m(\u001b[0m\u001b[0m__ret\u001b[0m\u001b[0;34m)\u001b[0m\u001b[0;34m\u001b[0m\u001b[0;34m\u001b[0m\u001b[0m\n\u001b[1;32m   2653\u001b[0m     \u001b[0;32mreturn\u001b[0m \u001b[0m__ret\u001b[0m\u001b[0;34m\u001b[0m\u001b[0;34m\u001b[0m\u001b[0m\n",
            "\u001b[0;32m~/miniconda3/envs/objNet/lib/python3.7/site-packages/matplotlib/__init__.py\u001b[0m in \u001b[0;36minner\u001b[0;34m(ax, data, *args, **kwargs)\u001b[0m\n\u001b[1;32m   1563\u001b[0m     \u001b[0;32mdef\u001b[0m \u001b[0minner\u001b[0m\u001b[0;34m(\u001b[0m\u001b[0max\u001b[0m\u001b[0;34m,\u001b[0m \u001b[0;34m*\u001b[0m\u001b[0margs\u001b[0m\u001b[0;34m,\u001b[0m \u001b[0mdata\u001b[0m\u001b[0;34m=\u001b[0m\u001b[0;32mNone\u001b[0m\u001b[0;34m,\u001b[0m \u001b[0;34m**\u001b[0m\u001b[0mkwargs\u001b[0m\u001b[0;34m)\u001b[0m\u001b[0;34m:\u001b[0m\u001b[0;34m\u001b[0m\u001b[0;34m\u001b[0m\u001b[0m\n\u001b[1;32m   1564\u001b[0m         \u001b[0;32mif\u001b[0m \u001b[0mdata\u001b[0m \u001b[0;32mis\u001b[0m \u001b[0;32mNone\u001b[0m\u001b[0;34m:\u001b[0m\u001b[0;34m\u001b[0m\u001b[0;34m\u001b[0m\u001b[0m\n\u001b[0;32m-> 1565\u001b[0;31m             \u001b[0;32mreturn\u001b[0m \u001b[0mfunc\u001b[0m\u001b[0;34m(\u001b[0m\u001b[0max\u001b[0m\u001b[0;34m,\u001b[0m \u001b[0;34m*\u001b[0m\u001b[0mmap\u001b[0m\u001b[0;34m(\u001b[0m\u001b[0msanitize_sequence\u001b[0m\u001b[0;34m,\u001b[0m \u001b[0margs\u001b[0m\u001b[0;34m)\u001b[0m\u001b[0;34m,\u001b[0m \u001b[0;34m**\u001b[0m\u001b[0mkwargs\u001b[0m\u001b[0;34m)\u001b[0m\u001b[0;34m\u001b[0m\u001b[0;34m\u001b[0m\u001b[0m\n\u001b[0m\u001b[1;32m   1566\u001b[0m \u001b[0;34m\u001b[0m\u001b[0m\n\u001b[1;32m   1567\u001b[0m         \u001b[0mbound\u001b[0m \u001b[0;34m=\u001b[0m \u001b[0mnew_sig\u001b[0m\u001b[0;34m.\u001b[0m\u001b[0mbind\u001b[0m\u001b[0;34m(\u001b[0m\u001b[0max\u001b[0m\u001b[0;34m,\u001b[0m \u001b[0;34m*\u001b[0m\u001b[0margs\u001b[0m\u001b[0;34m,\u001b[0m \u001b[0;34m**\u001b[0m\u001b[0mkwargs\u001b[0m\u001b[0;34m)\u001b[0m\u001b[0;34m\u001b[0m\u001b[0;34m\u001b[0m\u001b[0m\n",
            "\u001b[0;32m~/miniconda3/envs/objNet/lib/python3.7/site-packages/matplotlib/cbook/deprecation.py\u001b[0m in \u001b[0;36mwrapper\u001b[0;34m(*args, **kwargs)\u001b[0m\n\u001b[1;32m    356\u001b[0m                 \u001b[0;34mf\"%(removal)s.  If any parameter follows {name!r}, they \"\u001b[0m\u001b[0;34m\u001b[0m\u001b[0;34m\u001b[0m\u001b[0m\n\u001b[1;32m    357\u001b[0m                 f\"should be pass as keyword, not positionally.\")\n\u001b[0;32m--> 358\u001b[0;31m         \u001b[0;32mreturn\u001b[0m \u001b[0mfunc\u001b[0m\u001b[0;34m(\u001b[0m\u001b[0;34m*\u001b[0m\u001b[0margs\u001b[0m\u001b[0;34m,\u001b[0m \u001b[0;34m**\u001b[0m\u001b[0mkwargs\u001b[0m\u001b[0;34m)\u001b[0m\u001b[0;34m\u001b[0m\u001b[0;34m\u001b[0m\u001b[0m\n\u001b[0m\u001b[1;32m    359\u001b[0m \u001b[0;34m\u001b[0m\u001b[0m\n\u001b[1;32m    360\u001b[0m     \u001b[0;32mreturn\u001b[0m \u001b[0mwrapper\u001b[0m\u001b[0;34m\u001b[0m\u001b[0;34m\u001b[0m\u001b[0m\n",
            "\u001b[0;32m~/miniconda3/envs/objNet/lib/python3.7/site-packages/matplotlib/cbook/deprecation.py\u001b[0m in \u001b[0;36mwrapper\u001b[0;34m(*args, **kwargs)\u001b[0m\n\u001b[1;32m    356\u001b[0m                 \u001b[0;34mf\"%(removal)s.  If any parameter follows {name!r}, they \"\u001b[0m\u001b[0;34m\u001b[0m\u001b[0;34m\u001b[0m\u001b[0m\n\u001b[1;32m    357\u001b[0m                 f\"should be pass as keyword, not positionally.\")\n\u001b[0;32m--> 358\u001b[0;31m         \u001b[0;32mreturn\u001b[0m \u001b[0mfunc\u001b[0m\u001b[0;34m(\u001b[0m\u001b[0;34m*\u001b[0m\u001b[0margs\u001b[0m\u001b[0;34m,\u001b[0m \u001b[0;34m**\u001b[0m\u001b[0mkwargs\u001b[0m\u001b[0;34m)\u001b[0m\u001b[0;34m\u001b[0m\u001b[0;34m\u001b[0m\u001b[0m\n\u001b[0m\u001b[1;32m    359\u001b[0m \u001b[0;34m\u001b[0m\u001b[0m\n\u001b[1;32m    360\u001b[0m     \u001b[0;32mreturn\u001b[0m \u001b[0mwrapper\u001b[0m\u001b[0;34m\u001b[0m\u001b[0;34m\u001b[0m\u001b[0m\n",
            "\u001b[0;32m~/miniconda3/envs/objNet/lib/python3.7/site-packages/matplotlib/axes/_axes.py\u001b[0m in \u001b[0;36mimshow\u001b[0;34m(self, X, cmap, norm, aspect, interpolation, alpha, vmin, vmax, origin, extent, shape, filternorm, filterrad, imlim, resample, url, **kwargs)\u001b[0m\n\u001b[1;32m   5613\u001b[0m                               resample=resample, **kwargs)\n\u001b[1;32m   5614\u001b[0m \u001b[0;34m\u001b[0m\u001b[0m\n\u001b[0;32m-> 5615\u001b[0;31m         \u001b[0mim\u001b[0m\u001b[0;34m.\u001b[0m\u001b[0mset_data\u001b[0m\u001b[0;34m(\u001b[0m\u001b[0mX\u001b[0m\u001b[0;34m)\u001b[0m\u001b[0;34m\u001b[0m\u001b[0;34m\u001b[0m\u001b[0m\n\u001b[0m\u001b[1;32m   5616\u001b[0m         \u001b[0mim\u001b[0m\u001b[0;34m.\u001b[0m\u001b[0mset_alpha\u001b[0m\u001b[0;34m(\u001b[0m\u001b[0malpha\u001b[0m\u001b[0;34m)\u001b[0m\u001b[0;34m\u001b[0m\u001b[0;34m\u001b[0m\u001b[0m\n\u001b[1;32m   5617\u001b[0m         \u001b[0;32mif\u001b[0m \u001b[0mim\u001b[0m\u001b[0;34m.\u001b[0m\u001b[0mget_clip_path\u001b[0m\u001b[0;34m(\u001b[0m\u001b[0;34m)\u001b[0m \u001b[0;32mis\u001b[0m \u001b[0;32mNone\u001b[0m\u001b[0;34m:\u001b[0m\u001b[0;34m\u001b[0m\u001b[0;34m\u001b[0m\u001b[0m\n",
            "\u001b[0;32m~/miniconda3/envs/objNet/lib/python3.7/site-packages/matplotlib/image.py\u001b[0m in \u001b[0;36mset_data\u001b[0;34m(self, A)\u001b[0m\n\u001b[1;32m    697\u001b[0m                 or self._A.ndim == 3 and self._A.shape[-1] in [3, 4]):\n\u001b[1;32m    698\u001b[0m             raise TypeError(\"Invalid shape {} for image data\"\n\u001b[0;32m--> 699\u001b[0;31m                             .format(self._A.shape))\n\u001b[0m\u001b[1;32m    700\u001b[0m \u001b[0;34m\u001b[0m\u001b[0m\n\u001b[1;32m    701\u001b[0m         \u001b[0;32mif\u001b[0m \u001b[0mself\u001b[0m\u001b[0;34m.\u001b[0m\u001b[0m_A\u001b[0m\u001b[0;34m.\u001b[0m\u001b[0mndim\u001b[0m \u001b[0;34m==\u001b[0m \u001b[0;36m3\u001b[0m\u001b[0;34m:\u001b[0m\u001b[0;34m\u001b[0m\u001b[0;34m\u001b[0m\u001b[0m\n",
            "\u001b[0;31mTypeError\u001b[0m: Invalid shape (1, 28, 28) for image data"
          ]
        },
        {
          "output_type": "display_data",
          "data": {
            "image/png": "[encoded data removed]",
            "text/plain": [
              "<Figure size 640x480 with 1 Axes>"
            ]
          },
          "metadata": {
            "tags": []
          }
        }
      ]
    },
    {
      "cell_type": "code",
      "metadata": {
        "id": "Un9UhktHHcem",
        "colab_type": "code",
        "colab": {}
      },
      "source": [
        ""
      ],
      "execution_count": 0,
      "outputs": []
    },
    {
      "cell_type": "markdown",
      "metadata": {
        "id": "x6VQX5krHcep",
        "colab_type": "text"
      },
      "source": [
        "# targeted PDG\n",
        "https://adversarial-ml-tutorial.org/adversarial_examples/"
      ]
    },
    {
      "cell_type": "code",
      "metadata": {
        "id": "qaSNFwNhHceq",
        "colab_type": "code",
        "colab": {}
      },
      "source": [
        ""
      ],
      "execution_count": 0,
      "outputs": []
    }
  ]
}